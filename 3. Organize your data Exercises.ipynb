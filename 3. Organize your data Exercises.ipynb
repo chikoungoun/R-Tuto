{
 "cells": [
  {
   "cell_type": "code",
   "execution_count": 1,
   "metadata": {},
   "outputs": [
    {
     "name": "stderr",
     "output_type": "stream",
     "text": [
      "-- \u001b[1mAttaching packages\u001b[22m ------------------------------------------------------------------------------- tidyverse 1.3.1 --\n",
      "\n",
      "\u001b[32mv\u001b[39m \u001b[34mggplot2\u001b[39m 3.3.5     \u001b[32mv\u001b[39m \u001b[34mpurrr  \u001b[39m 0.3.4\n",
      "\u001b[32mv\u001b[39m \u001b[34mtibble \u001b[39m 3.1.5     \u001b[32mv\u001b[39m \u001b[34mdplyr  \u001b[39m 1.0.7\n",
      "\u001b[32mv\u001b[39m \u001b[34mtidyr  \u001b[39m 1.1.4     \u001b[32mv\u001b[39m \u001b[34mstringr\u001b[39m 1.4.0\n",
      "\u001b[32mv\u001b[39m \u001b[34mreadr  \u001b[39m 2.0.2     \u001b[32mv\u001b[39m \u001b[34mforcats\u001b[39m 0.5.1\n",
      "\n",
      "-- \u001b[1mConflicts\u001b[22m ---------------------------------------------------------------------------------- tidyverse_conflicts() --\n",
      "\u001b[31mx\u001b[39m \u001b[34mdplyr\u001b[39m::\u001b[32mfilter()\u001b[39m masks \u001b[34mstats\u001b[39m::filter()\n",
      "\u001b[31mx\u001b[39m \u001b[34mdplyr\u001b[39m::\u001b[32mlag()\u001b[39m    masks \u001b[34mstats\u001b[39m::lag()\n",
      "\n"
     ]
    }
   ],
   "source": [
    "library(tidyverse)"
   ]
  },
  {
   "cell_type": "code",
   "execution_count": 2,
   "metadata": {},
   "outputs": [
    {
     "name": "stderr",
     "output_type": "stream",
     "text": [
      "\n",
      "Attachement du package : 'janitor'\n",
      "\n",
      "\n",
      "Les objets suivants sont masqués depuis 'package:stats':\n",
      "\n",
      "    chisq.test, fisher.test\n",
      "\n",
      "\n"
     ]
    }
   ],
   "source": [
    "library(janitor)"
   ]
  },
  {
   "cell_type": "code",
   "execution_count": 3,
   "metadata": {},
   "outputs": [],
   "source": [
    "library(skimr)"
   ]
  },
  {
   "cell_type": "code",
   "execution_count": 4,
   "metadata": {},
   "outputs": [
    {
     "name": "stderr",
     "output_type": "stream",
     "text": [
      "\u001b[1mRows: \u001b[22m\u001b[34m119390\u001b[39m \u001b[1mColumns: \u001b[22m\u001b[34m32\u001b[39m\n",
      "\n",
      "\u001b[36m--\u001b[39m \u001b[1mColumn specification\u001b[22m \u001b[36m------------------------------------------------------------------------------------------------\u001b[39m\n",
      "\u001b[1mDelimiter:\u001b[22m \",\"\n",
      "\u001b[31mchr\u001b[39m  (13): hotel, arrival_date_month, meal, country, market_segment, distrib...\n",
      "\u001b[32mdbl\u001b[39m  (18): is_canceled, lead_time, arrival_date_year, arrival_date_week_numb...\n",
      "\u001b[34mdate\u001b[39m  (1): reservation_status_date\n",
      "\n",
      "\n",
      "\u001b[36mi\u001b[39m Use \u001b[30m\u001b[47m\u001b[30m\u001b[47m`spec()`\u001b[47m\u001b[30m\u001b[49m\u001b[39m to retrieve the full column specification for this data.\n",
      "\u001b[36mi\u001b[39m Specify the column types or set \u001b[30m\u001b[47m\u001b[30m\u001b[47m`show_col_types = FALSE`\u001b[47m\u001b[30m\u001b[49m\u001b[39m to quiet this message.\n",
      "\n"
     ]
    }
   ],
   "source": [
    "bookings_df <- read_csv(\"hotel_bookings.csv\")"
   ]
  },
  {
   "cell_type": "code",
   "execution_count": 5,
   "metadata": {},
   "outputs": [
    {
     "data": {
      "text/html": [
       "<table class=\"dataframe\">\n",
       "<caption>A tibble: 6 × 32</caption>\n",
       "<thead>\n",
       "\t<tr><th scope=col>hotel</th><th scope=col>is_canceled</th><th scope=col>lead_time</th><th scope=col>arrival_date_year</th><th scope=col>arrival_date_month</th><th scope=col>arrival_date_week_number</th><th scope=col>arrival_date_day_of_month</th><th scope=col>stays_in_weekend_nights</th><th scope=col>stays_in_week_nights</th><th scope=col>adults</th><th scope=col>...</th><th scope=col>deposit_type</th><th scope=col>agent</th><th scope=col>company</th><th scope=col>days_in_waiting_list</th><th scope=col>customer_type</th><th scope=col>adr</th><th scope=col>required_car_parking_spaces</th><th scope=col>total_of_special_requests</th><th scope=col>reservation_status</th><th scope=col>reservation_status_date</th></tr>\n",
       "\t<tr><th scope=col>&lt;chr&gt;</th><th scope=col>&lt;dbl&gt;</th><th scope=col>&lt;dbl&gt;</th><th scope=col>&lt;dbl&gt;</th><th scope=col>&lt;chr&gt;</th><th scope=col>&lt;dbl&gt;</th><th scope=col>&lt;dbl&gt;</th><th scope=col>&lt;dbl&gt;</th><th scope=col>&lt;dbl&gt;</th><th scope=col>&lt;dbl&gt;</th><th scope=col>...</th><th scope=col>&lt;chr&gt;</th><th scope=col>&lt;chr&gt;</th><th scope=col>&lt;chr&gt;</th><th scope=col>&lt;dbl&gt;</th><th scope=col>&lt;chr&gt;</th><th scope=col>&lt;dbl&gt;</th><th scope=col>&lt;dbl&gt;</th><th scope=col>&lt;dbl&gt;</th><th scope=col>&lt;chr&gt;</th><th scope=col>&lt;date&gt;</th></tr>\n",
       "</thead>\n",
       "<tbody>\n",
       "\t<tr><td>Resort Hotel</td><td>0</td><td>342</td><td>2015</td><td>July</td><td>27</td><td>1</td><td>0</td><td>0</td><td>2</td><td>...</td><td>No Deposit</td><td>NULL</td><td>NULL</td><td>0</td><td>Transient</td><td> 0</td><td>0</td><td>0</td><td>Check-Out</td><td>2015-07-01</td></tr>\n",
       "\t<tr><td>Resort Hotel</td><td>0</td><td>737</td><td>2015</td><td>July</td><td>27</td><td>1</td><td>0</td><td>0</td><td>2</td><td>...</td><td>No Deposit</td><td>NULL</td><td>NULL</td><td>0</td><td>Transient</td><td> 0</td><td>0</td><td>0</td><td>Check-Out</td><td>2015-07-01</td></tr>\n",
       "\t<tr><td>Resort Hotel</td><td>0</td><td>  7</td><td>2015</td><td>July</td><td>27</td><td>1</td><td>0</td><td>1</td><td>1</td><td>...</td><td>No Deposit</td><td>NULL</td><td>NULL</td><td>0</td><td>Transient</td><td>75</td><td>0</td><td>0</td><td>Check-Out</td><td>2015-07-02</td></tr>\n",
       "\t<tr><td>Resort Hotel</td><td>0</td><td> 13</td><td>2015</td><td>July</td><td>27</td><td>1</td><td>0</td><td>1</td><td>1</td><td>...</td><td>No Deposit</td><td>304 </td><td>NULL</td><td>0</td><td>Transient</td><td>75</td><td>0</td><td>0</td><td>Check-Out</td><td>2015-07-02</td></tr>\n",
       "\t<tr><td>Resort Hotel</td><td>0</td><td> 14</td><td>2015</td><td>July</td><td>27</td><td>1</td><td>0</td><td>2</td><td>2</td><td>...</td><td>No Deposit</td><td>240 </td><td>NULL</td><td>0</td><td>Transient</td><td>98</td><td>0</td><td>1</td><td>Check-Out</td><td>2015-07-03</td></tr>\n",
       "\t<tr><td>Resort Hotel</td><td>0</td><td> 14</td><td>2015</td><td>July</td><td>27</td><td>1</td><td>0</td><td>2</td><td>2</td><td>...</td><td>No Deposit</td><td>240 </td><td>NULL</td><td>0</td><td>Transient</td><td>98</td><td>0</td><td>1</td><td>Check-Out</td><td>2015-07-03</td></tr>\n",
       "</tbody>\n",
       "</table>\n"
      ],
      "text/latex": [
       "A tibble: 6 × 32\n",
       "\\begin{tabular}{lllllllllllllllllllll}\n",
       " hotel & is\\_canceled & lead\\_time & arrival\\_date\\_year & arrival\\_date\\_month & arrival\\_date\\_week\\_number & arrival\\_date\\_day\\_of\\_month & stays\\_in\\_weekend\\_nights & stays\\_in\\_week\\_nights & adults & ... & deposit\\_type & agent & company & days\\_in\\_waiting\\_list & customer\\_type & adr & required\\_car\\_parking\\_spaces & total\\_of\\_special\\_requests & reservation\\_status & reservation\\_status\\_date\\\\\n",
       " <chr> & <dbl> & <dbl> & <dbl> & <chr> & <dbl> & <dbl> & <dbl> & <dbl> & <dbl> & ... & <chr> & <chr> & <chr> & <dbl> & <chr> & <dbl> & <dbl> & <dbl> & <chr> & <date>\\\\\n",
       "\\hline\n",
       "\t Resort Hotel & 0 & 342 & 2015 & July & 27 & 1 & 0 & 0 & 2 & ... & No Deposit & NULL & NULL & 0 & Transient &  0 & 0 & 0 & Check-Out & 2015-07-01\\\\\n",
       "\t Resort Hotel & 0 & 737 & 2015 & July & 27 & 1 & 0 & 0 & 2 & ... & No Deposit & NULL & NULL & 0 & Transient &  0 & 0 & 0 & Check-Out & 2015-07-01\\\\\n",
       "\t Resort Hotel & 0 &   7 & 2015 & July & 27 & 1 & 0 & 1 & 1 & ... & No Deposit & NULL & NULL & 0 & Transient & 75 & 0 & 0 & Check-Out & 2015-07-02\\\\\n",
       "\t Resort Hotel & 0 &  13 & 2015 & July & 27 & 1 & 0 & 1 & 1 & ... & No Deposit & 304  & NULL & 0 & Transient & 75 & 0 & 0 & Check-Out & 2015-07-02\\\\\n",
       "\t Resort Hotel & 0 &  14 & 2015 & July & 27 & 1 & 0 & 2 & 2 & ... & No Deposit & 240  & NULL & 0 & Transient & 98 & 0 & 1 & Check-Out & 2015-07-03\\\\\n",
       "\t Resort Hotel & 0 &  14 & 2015 & July & 27 & 1 & 0 & 2 & 2 & ... & No Deposit & 240  & NULL & 0 & Transient & 98 & 0 & 1 & Check-Out & 2015-07-03\\\\\n",
       "\\end{tabular}\n"
      ],
      "text/markdown": [
       "\n",
       "A tibble: 6 × 32\n",
       "\n",
       "| hotel &lt;chr&gt; | is_canceled &lt;dbl&gt; | lead_time &lt;dbl&gt; | arrival_date_year &lt;dbl&gt; | arrival_date_month &lt;chr&gt; | arrival_date_week_number &lt;dbl&gt; | arrival_date_day_of_month &lt;dbl&gt; | stays_in_weekend_nights &lt;dbl&gt; | stays_in_week_nights &lt;dbl&gt; | adults &lt;dbl&gt; | ... ... | deposit_type &lt;chr&gt; | agent &lt;chr&gt; | company &lt;chr&gt; | days_in_waiting_list &lt;dbl&gt; | customer_type &lt;chr&gt; | adr &lt;dbl&gt; | required_car_parking_spaces &lt;dbl&gt; | total_of_special_requests &lt;dbl&gt; | reservation_status &lt;chr&gt; | reservation_status_date &lt;date&gt; |\n",
       "|---|---|---|---|---|---|---|---|---|---|---|---|---|---|---|---|---|---|---|---|---|\n",
       "| Resort Hotel | 0 | 342 | 2015 | July | 27 | 1 | 0 | 0 | 2 | ... | No Deposit | NULL | NULL | 0 | Transient |  0 | 0 | 0 | Check-Out | 2015-07-01 |\n",
       "| Resort Hotel | 0 | 737 | 2015 | July | 27 | 1 | 0 | 0 | 2 | ... | No Deposit | NULL | NULL | 0 | Transient |  0 | 0 | 0 | Check-Out | 2015-07-01 |\n",
       "| Resort Hotel | 0 |   7 | 2015 | July | 27 | 1 | 0 | 1 | 1 | ... | No Deposit | NULL | NULL | 0 | Transient | 75 | 0 | 0 | Check-Out | 2015-07-02 |\n",
       "| Resort Hotel | 0 |  13 | 2015 | July | 27 | 1 | 0 | 1 | 1 | ... | No Deposit | 304  | NULL | 0 | Transient | 75 | 0 | 0 | Check-Out | 2015-07-02 |\n",
       "| Resort Hotel | 0 |  14 | 2015 | July | 27 | 1 | 0 | 2 | 2 | ... | No Deposit | 240  | NULL | 0 | Transient | 98 | 0 | 1 | Check-Out | 2015-07-03 |\n",
       "| Resort Hotel | 0 |  14 | 2015 | July | 27 | 1 | 0 | 2 | 2 | ... | No Deposit | 240  | NULL | 0 | Transient | 98 | 0 | 1 | Check-Out | 2015-07-03 |\n",
       "\n"
      ],
      "text/plain": [
       "  hotel        is_canceled lead_time arrival_date_year arrival_date_month\n",
       "1 Resort Hotel 0           342       2015              July              \n",
       "2 Resort Hotel 0           737       2015              July              \n",
       "3 Resort Hotel 0             7       2015              July              \n",
       "4 Resort Hotel 0            13       2015              July              \n",
       "5 Resort Hotel 0            14       2015              July              \n",
       "6 Resort Hotel 0            14       2015              July              \n",
       "  arrival_date_week_number arrival_date_day_of_month stays_in_weekend_nights\n",
       "1 27                       1                         0                      \n",
       "2 27                       1                         0                      \n",
       "3 27                       1                         0                      \n",
       "4 27                       1                         0                      \n",
       "5 27                       1                         0                      \n",
       "6 27                       1                         0                      \n",
       "  stays_in_week_nights adults ... deposit_type agent company\n",
       "1 0                    2      ... No Deposit   NULL  NULL   \n",
       "2 0                    2      ... No Deposit   NULL  NULL   \n",
       "3 1                    1      ... No Deposit   NULL  NULL   \n",
       "4 1                    1      ... No Deposit   304   NULL   \n",
       "5 2                    2      ... No Deposit   240   NULL   \n",
       "6 2                    2      ... No Deposit   240   NULL   \n",
       "  days_in_waiting_list customer_type adr required_car_parking_spaces\n",
       "1 0                    Transient      0  0                          \n",
       "2 0                    Transient      0  0                          \n",
       "3 0                    Transient     75  0                          \n",
       "4 0                    Transient     75  0                          \n",
       "5 0                    Transient     98  0                          \n",
       "6 0                    Transient     98  0                          \n",
       "  total_of_special_requests reservation_status reservation_status_date\n",
       "1 0                         Check-Out          2015-07-01             \n",
       "2 0                         Check-Out          2015-07-01             \n",
       "3 0                         Check-Out          2015-07-02             \n",
       "4 0                         Check-Out          2015-07-02             \n",
       "5 1                         Check-Out          2015-07-03             \n",
       "6 1                         Check-Out          2015-07-03             "
      ]
     },
     "metadata": {},
     "output_type": "display_data"
    }
   ],
   "source": [
    "head(bookings_df)"
   ]
  },
  {
   "cell_type": "code",
   "execution_count": 6,
   "metadata": {},
   "outputs": [
    {
     "name": "stdout",
     "output_type": "stream",
     "text": [
      "spec_tbl_df [119,390 x 32] (S3: spec_tbl_df/tbl_df/tbl/data.frame)\n",
      " $ hotel                         : chr [1:119390] \"Resort Hotel\" \"Resort Hotel\" \"Resort Hotel\" \"Resort Hotel\" ...\n",
      " $ is_canceled                   : num [1:119390] 0 0 0 0 0 0 0 0 1 1 ...\n",
      " $ lead_time                     : num [1:119390] 342 737 7 13 14 14 0 9 85 75 ...\n",
      " $ arrival_date_year             : num [1:119390] 2015 2015 2015 2015 2015 ...\n",
      " $ arrival_date_month            : chr [1:119390] \"July\" \"July\" \"July\" \"July\" ...\n",
      " $ arrival_date_week_number      : num [1:119390] 27 27 27 27 27 27 27 27 27 27 ...\n",
      " $ arrival_date_day_of_month     : num [1:119390] 1 1 1 1 1 1 1 1 1 1 ...\n",
      " $ stays_in_weekend_nights       : num [1:119390] 0 0 0 0 0 0 0 0 0 0 ...\n",
      " $ stays_in_week_nights          : num [1:119390] 0 0 1 1 2 2 2 2 3 3 ...\n",
      " $ adults                        : num [1:119390] 2 2 1 1 2 2 2 2 2 2 ...\n",
      " $ children                      : num [1:119390] 0 0 0 0 0 0 0 0 0 0 ...\n",
      " $ babies                        : num [1:119390] 0 0 0 0 0 0 0 0 0 0 ...\n",
      " $ meal                          : chr [1:119390] \"BB\" \"BB\" \"BB\" \"BB\" ...\n",
      " $ country                       : chr [1:119390] \"PRT\" \"PRT\" \"GBR\" \"GBR\" ...\n",
      " $ market_segment                : chr [1:119390] \"Direct\" \"Direct\" \"Direct\" \"Corporate\" ...\n",
      " $ distribution_channel          : chr [1:119390] \"Direct\" \"Direct\" \"Direct\" \"Corporate\" ...\n",
      " $ is_repeated_guest             : num [1:119390] 0 0 0 0 0 0 0 0 0 0 ...\n",
      " $ previous_cancellations        : num [1:119390] 0 0 0 0 0 0 0 0 0 0 ...\n",
      " $ previous_bookings_not_canceled: num [1:119390] 0 0 0 0 0 0 0 0 0 0 ...\n",
      " $ reserved_room_type            : chr [1:119390] \"C\" \"C\" \"A\" \"A\" ...\n",
      " $ assigned_room_type            : chr [1:119390] \"C\" \"C\" \"C\" \"A\" ...\n",
      " $ booking_changes               : num [1:119390] 3 4 0 0 0 0 0 0 0 0 ...\n",
      " $ deposit_type                  : chr [1:119390] \"No Deposit\" \"No Deposit\" \"No Deposit\" \"No Deposit\" ...\n",
      " $ agent                         : chr [1:119390] \"NULL\" \"NULL\" \"NULL\" \"304\" ...\n",
      " $ company                       : chr [1:119390] \"NULL\" \"NULL\" \"NULL\" \"NULL\" ...\n",
      " $ days_in_waiting_list          : num [1:119390] 0 0 0 0 0 0 0 0 0 0 ...\n",
      " $ customer_type                 : chr [1:119390] \"Transient\" \"Transient\" \"Transient\" \"Transient\" ...\n",
      " $ adr                           : num [1:119390] 0 0 75 75 98 ...\n",
      " $ required_car_parking_spaces   : num [1:119390] 0 0 0 0 0 0 0 0 0 0 ...\n",
      " $ total_of_special_requests     : num [1:119390] 0 0 0 0 1 1 0 1 1 0 ...\n",
      " $ reservation_status            : chr [1:119390] \"Check-Out\" \"Check-Out\" \"Check-Out\" \"Check-Out\" ...\n",
      " $ reservation_status_date       : Date[1:119390], format: \"2015-07-01\" \"2015-07-01\" ...\n",
      " - attr(*, \"spec\")=\n",
      "  .. cols(\n",
      "  ..   hotel = \u001b[31mcol_character()\u001b[39m,\n",
      "  ..   is_canceled = \u001b[32mcol_double()\u001b[39m,\n",
      "  ..   lead_time = \u001b[32mcol_double()\u001b[39m,\n",
      "  ..   arrival_date_year = \u001b[32mcol_double()\u001b[39m,\n",
      "  ..   arrival_date_month = \u001b[31mcol_character()\u001b[39m,\n",
      "  ..   arrival_date_week_number = \u001b[32mcol_double()\u001b[39m,\n",
      "  ..   arrival_date_day_of_month = \u001b[32mcol_double()\u001b[39m,\n",
      "  ..   stays_in_weekend_nights = \u001b[32mcol_double()\u001b[39m,\n",
      "  ..   stays_in_week_nights = \u001b[32mcol_double()\u001b[39m,\n",
      "  ..   adults = \u001b[32mcol_double()\u001b[39m,\n",
      "  ..   children = \u001b[32mcol_double()\u001b[39m,\n",
      "  ..   babies = \u001b[32mcol_double()\u001b[39m,\n",
      "  ..   meal = \u001b[31mcol_character()\u001b[39m,\n",
      "  ..   country = \u001b[31mcol_character()\u001b[39m,\n",
      "  ..   market_segment = \u001b[31mcol_character()\u001b[39m,\n",
      "  ..   distribution_channel = \u001b[31mcol_character()\u001b[39m,\n",
      "  ..   is_repeated_guest = \u001b[32mcol_double()\u001b[39m,\n",
      "  ..   previous_cancellations = \u001b[32mcol_double()\u001b[39m,\n",
      "  ..   previous_bookings_not_canceled = \u001b[32mcol_double()\u001b[39m,\n",
      "  ..   reserved_room_type = \u001b[31mcol_character()\u001b[39m,\n",
      "  ..   assigned_room_type = \u001b[31mcol_character()\u001b[39m,\n",
      "  ..   booking_changes = \u001b[32mcol_double()\u001b[39m,\n",
      "  ..   deposit_type = \u001b[31mcol_character()\u001b[39m,\n",
      "  ..   agent = \u001b[31mcol_character()\u001b[39m,\n",
      "  ..   company = \u001b[31mcol_character()\u001b[39m,\n",
      "  ..   days_in_waiting_list = \u001b[32mcol_double()\u001b[39m,\n",
      "  ..   customer_type = \u001b[31mcol_character()\u001b[39m,\n",
      "  ..   adr = \u001b[32mcol_double()\u001b[39m,\n",
      "  ..   required_car_parking_spaces = \u001b[32mcol_double()\u001b[39m,\n",
      "  ..   total_of_special_requests = \u001b[32mcol_double()\u001b[39m,\n",
      "  ..   reservation_status = \u001b[31mcol_character()\u001b[39m,\n",
      "  ..   reservation_status_date = \u001b[34mcol_date(format = \"\")\u001b[39m\n",
      "  .. )\n",
      " - attr(*, \"problems\")=<externalptr> \n"
     ]
    }
   ],
   "source": [
    "# data frame structure\n",
    "str(bookings_df)"
   ]
  },
  {
   "cell_type": "code",
   "execution_count": 7,
   "metadata": {},
   "outputs": [
    {
     "name": "stdout",
     "output_type": "stream",
     "text": [
      "Rows: 119,390\n",
      "Columns: 32\n",
      "$ hotel                          \u001b[3m\u001b[90m<chr>\u001b[39m\u001b[23m \"Resort Hotel\", \"Resort Hotel\", \"Resort~\n",
      "$ is_canceled                    \u001b[3m\u001b[90m<dbl>\u001b[39m\u001b[23m 0, 0, 0, 0, 0, 0, 0, 0, 1, 1, 1, 0, 0, ~\n",
      "$ lead_time                      \u001b[3m\u001b[90m<dbl>\u001b[39m\u001b[23m 342, 737, 7, 13, 14, 14, 0, 9, 85, 75, ~\n",
      "$ arrival_date_year              \u001b[3m\u001b[90m<dbl>\u001b[39m\u001b[23m 2015, 2015, 2015, 2015, 2015, 2015, 201~\n",
      "$ arrival_date_month             \u001b[3m\u001b[90m<chr>\u001b[39m\u001b[23m \"July\", \"July\", \"July\", \"July\", \"July\",~\n",
      "$ arrival_date_week_number       \u001b[3m\u001b[90m<dbl>\u001b[39m\u001b[23m 27, 27, 27, 27, 27, 27, 27, 27, 27, 27,~\n",
      "$ arrival_date_day_of_month      \u001b[3m\u001b[90m<dbl>\u001b[39m\u001b[23m 1, 1, 1, 1, 1, 1, 1, 1, 1, 1, 1, 1, 1, ~\n",
      "$ stays_in_weekend_nights        \u001b[3m\u001b[90m<dbl>\u001b[39m\u001b[23m 0, 0, 0, 0, 0, 0, 0, 0, 0, 0, 0, 0, 0, ~\n",
      "$ stays_in_week_nights           \u001b[3m\u001b[90m<dbl>\u001b[39m\u001b[23m 0, 0, 1, 1, 2, 2, 2, 2, 3, 3, 4, 4, 4, ~\n",
      "$ adults                         \u001b[3m\u001b[90m<dbl>\u001b[39m\u001b[23m 2, 2, 1, 1, 2, 2, 2, 2, 2, 2, 2, 2, 2, ~\n",
      "$ children                       \u001b[3m\u001b[90m<dbl>\u001b[39m\u001b[23m 0, 0, 0, 0, 0, 0, 0, 0, 0, 0, 0, 0, 0, ~\n",
      "$ babies                         \u001b[3m\u001b[90m<dbl>\u001b[39m\u001b[23m 0, 0, 0, 0, 0, 0, 0, 0, 0, 0, 0, 0, 0, ~\n",
      "$ meal                           \u001b[3m\u001b[90m<chr>\u001b[39m\u001b[23m \"BB\", \"BB\", \"BB\", \"BB\", \"BB\", \"BB\", \"BB~\n",
      "$ country                        \u001b[3m\u001b[90m<chr>\u001b[39m\u001b[23m \"PRT\", \"PRT\", \"GBR\", \"GBR\", \"GBR\", \"GBR~\n",
      "$ market_segment                 \u001b[3m\u001b[90m<chr>\u001b[39m\u001b[23m \"Direct\", \"Direct\", \"Direct\", \"Corporat~\n",
      "$ distribution_channel           \u001b[3m\u001b[90m<chr>\u001b[39m\u001b[23m \"Direct\", \"Direct\", \"Direct\", \"Corporat~\n",
      "$ is_repeated_guest              \u001b[3m\u001b[90m<dbl>\u001b[39m\u001b[23m 0, 0, 0, 0, 0, 0, 0, 0, 0, 0, 0, 0, 0, ~\n",
      "$ previous_cancellations         \u001b[3m\u001b[90m<dbl>\u001b[39m\u001b[23m 0, 0, 0, 0, 0, 0, 0, 0, 0, 0, 0, 0, 0, ~\n",
      "$ previous_bookings_not_canceled \u001b[3m\u001b[90m<dbl>\u001b[39m\u001b[23m 0, 0, 0, 0, 0, 0, 0, 0, 0, 0, 0, 0, 0, ~\n",
      "$ reserved_room_type             \u001b[3m\u001b[90m<chr>\u001b[39m\u001b[23m \"C\", \"C\", \"A\", \"A\", \"A\", \"A\", \"C\", \"C\",~\n",
      "$ assigned_room_type             \u001b[3m\u001b[90m<chr>\u001b[39m\u001b[23m \"C\", \"C\", \"C\", \"A\", \"A\", \"A\", \"C\", \"C\",~\n",
      "$ booking_changes                \u001b[3m\u001b[90m<dbl>\u001b[39m\u001b[23m 3, 4, 0, 0, 0, 0, 0, 0, 0, 0, 0, 0, 0, ~\n",
      "$ deposit_type                   \u001b[3m\u001b[90m<chr>\u001b[39m\u001b[23m \"No Deposit\", \"No Deposit\", \"No Deposit~\n",
      "$ agent                          \u001b[3m\u001b[90m<chr>\u001b[39m\u001b[23m \"NULL\", \"NULL\", \"NULL\", \"304\", \"240\", \"~\n",
      "$ company                        \u001b[3m\u001b[90m<chr>\u001b[39m\u001b[23m \"NULL\", \"NULL\", \"NULL\", \"NULL\", \"NULL\",~\n",
      "$ days_in_waiting_list           \u001b[3m\u001b[90m<dbl>\u001b[39m\u001b[23m 0, 0, 0, 0, 0, 0, 0, 0, 0, 0, 0, 0, 0, ~\n",
      "$ customer_type                  \u001b[3m\u001b[90m<chr>\u001b[39m\u001b[23m \"Transient\", \"Transient\", \"Transient\", ~\n",
      "$ adr                            \u001b[3m\u001b[90m<dbl>\u001b[39m\u001b[23m 0.00, 0.00, 75.00, 75.00, 98.00, 98.00,~\n",
      "$ required_car_parking_spaces    \u001b[3m\u001b[90m<dbl>\u001b[39m\u001b[23m 0, 0, 0, 0, 0, 0, 0, 0, 0, 0, 0, 0, 0, ~\n",
      "$ total_of_special_requests      \u001b[3m\u001b[90m<dbl>\u001b[39m\u001b[23m 0, 0, 0, 0, 1, 1, 0, 1, 1, 0, 0, 0, 3, ~\n",
      "$ reservation_status             \u001b[3m\u001b[90m<chr>\u001b[39m\u001b[23m \"Check-Out\", \"Check-Out\", \"Check-Out\", ~\n",
      "$ reservation_status_date        \u001b[3m\u001b[90m<date>\u001b[39m\u001b[23m 2015-07-01, 2015-07-01, 2015-07-02, 20~\n"
     ]
    }
   ],
   "source": [
    "glimpse(bookings_df)"
   ]
  },
  {
   "cell_type": "code",
   "execution_count": 8,
   "metadata": {},
   "outputs": [
    {
     "data": {
      "text/html": [
       "<style>\n",
       ".list-inline {list-style: none; margin:0; padding: 0}\n",
       ".list-inline>li {display: inline-block}\n",
       ".list-inline>li:not(:last-child)::after {content: \"\\00b7\"; padding: 0 .5ex}\n",
       "</style>\n",
       "<ol class=list-inline><li>'hotel'</li><li>'is_canceled'</li><li>'lead_time'</li><li>'arrival_date_year'</li><li>'arrival_date_month'</li><li>'arrival_date_week_number'</li><li>'arrival_date_day_of_month'</li><li>'stays_in_weekend_nights'</li><li>'stays_in_week_nights'</li><li>'adults'</li><li>'children'</li><li>'babies'</li><li>'meal'</li><li>'country'</li><li>'market_segment'</li><li>'distribution_channel'</li><li>'is_repeated_guest'</li><li>'previous_cancellations'</li><li>'previous_bookings_not_canceled'</li><li>'reserved_room_type'</li><li>'assigned_room_type'</li><li>'booking_changes'</li><li>'deposit_type'</li><li>'agent'</li><li>'company'</li><li>'days_in_waiting_list'</li><li>'customer_type'</li><li>'adr'</li><li>'required_car_parking_spaces'</li><li>'total_of_special_requests'</li><li>'reservation_status'</li><li>'reservation_status_date'</li></ol>\n"
      ],
      "text/latex": [
       "\\begin{enumerate*}\n",
       "\\item 'hotel'\n",
       "\\item 'is\\_canceled'\n",
       "\\item 'lead\\_time'\n",
       "\\item 'arrival\\_date\\_year'\n",
       "\\item 'arrival\\_date\\_month'\n",
       "\\item 'arrival\\_date\\_week\\_number'\n",
       "\\item 'arrival\\_date\\_day\\_of\\_month'\n",
       "\\item 'stays\\_in\\_weekend\\_nights'\n",
       "\\item 'stays\\_in\\_week\\_nights'\n",
       "\\item 'adults'\n",
       "\\item 'children'\n",
       "\\item 'babies'\n",
       "\\item 'meal'\n",
       "\\item 'country'\n",
       "\\item 'market\\_segment'\n",
       "\\item 'distribution\\_channel'\n",
       "\\item 'is\\_repeated\\_guest'\n",
       "\\item 'previous\\_cancellations'\n",
       "\\item 'previous\\_bookings\\_not\\_canceled'\n",
       "\\item 'reserved\\_room\\_type'\n",
       "\\item 'assigned\\_room\\_type'\n",
       "\\item 'booking\\_changes'\n",
       "\\item 'deposit\\_type'\n",
       "\\item 'agent'\n",
       "\\item 'company'\n",
       "\\item 'days\\_in\\_waiting\\_list'\n",
       "\\item 'customer\\_type'\n",
       "\\item 'adr'\n",
       "\\item 'required\\_car\\_parking\\_spaces'\n",
       "\\item 'total\\_of\\_special\\_requests'\n",
       "\\item 'reservation\\_status'\n",
       "\\item 'reservation\\_status\\_date'\n",
       "\\end{enumerate*}\n"
      ],
      "text/markdown": [
       "1. 'hotel'\n",
       "2. 'is_canceled'\n",
       "3. 'lead_time'\n",
       "4. 'arrival_date_year'\n",
       "5. 'arrival_date_month'\n",
       "6. 'arrival_date_week_number'\n",
       "7. 'arrival_date_day_of_month'\n",
       "8. 'stays_in_weekend_nights'\n",
       "9. 'stays_in_week_nights'\n",
       "10. 'adults'\n",
       "11. 'children'\n",
       "12. 'babies'\n",
       "13. 'meal'\n",
       "14. 'country'\n",
       "15. 'market_segment'\n",
       "16. 'distribution_channel'\n",
       "17. 'is_repeated_guest'\n",
       "18. 'previous_cancellations'\n",
       "19. 'previous_bookings_not_canceled'\n",
       "20. 'reserved_room_type'\n",
       "21. 'assigned_room_type'\n",
       "22. 'booking_changes'\n",
       "23. 'deposit_type'\n",
       "24. 'agent'\n",
       "25. 'company'\n",
       "26. 'days_in_waiting_list'\n",
       "27. 'customer_type'\n",
       "28. 'adr'\n",
       "29. 'required_car_parking_spaces'\n",
       "30. 'total_of_special_requests'\n",
       "31. 'reservation_status'\n",
       "32. 'reservation_status_date'\n",
       "\n",
       "\n"
      ],
      "text/plain": [
       " [1] \"hotel\"                          \"is_canceled\"                   \n",
       " [3] \"lead_time\"                      \"arrival_date_year\"             \n",
       " [5] \"arrival_date_month\"             \"arrival_date_week_number\"      \n",
       " [7] \"arrival_date_day_of_month\"      \"stays_in_weekend_nights\"       \n",
       " [9] \"stays_in_week_nights\"           \"adults\"                        \n",
       "[11] \"children\"                       \"babies\"                        \n",
       "[13] \"meal\"                           \"country\"                       \n",
       "[15] \"market_segment\"                 \"distribution_channel\"          \n",
       "[17] \"is_repeated_guest\"              \"previous_cancellations\"        \n",
       "[19] \"previous_bookings_not_canceled\" \"reserved_room_type\"            \n",
       "[21] \"assigned_room_type\"             \"booking_changes\"               \n",
       "[23] \"deposit_type\"                   \"agent\"                         \n",
       "[25] \"company\"                        \"days_in_waiting_list\"          \n",
       "[27] \"customer_type\"                  \"adr\"                           \n",
       "[29] \"required_car_parking_spaces\"    \"total_of_special_requests\"     \n",
       "[31] \"reservation_status\"             \"reservation_status_date\"       "
      ]
     },
     "metadata": {},
     "output_type": "display_data"
    }
   ],
   "source": [
    "# dataframe column names\n",
    "colnames(bookings_df)"
   ]
  },
  {
   "cell_type": "code",
   "execution_count": 9,
   "metadata": {},
   "outputs": [
    {
     "name": "stdout",
     "output_type": "stream",
     "text": [
      "-- Data Summary ------------------------\n",
      "                           Values     \n",
      "Name                       bookings_df\n",
      "Number of rows             119390     \n",
      "Number of columns          32         \n",
      "_______________________               \n",
      "Column type frequency:                \n",
      "  character                13         \n",
      "  Date                     1          \n",
      "  numeric                  18         \n",
      "________________________              \n",
      "Group variables            None       \n",
      "\n",
      "-- Variable type: character ----------------------------------------------------\n",
      "# A tibble: 13 x 8\n",
      "   skim_variable        n_missing complete_rate   min   max empty n_unique\n",
      " * <chr>                    <int>         <dbl> <int> <int> <int>    <int>\n",
      " 1 hotel                        0             1    10    12     0        2\n",
      " 2 arrival_date_month           0             1     3     9     0       12\n",
      " 3 meal                         0             1     2     9     0        5\n",
      " 4 country                      0             1     2     4     0      178\n",
      " 5 market_segment               0             1     6    13     0        8\n",
      " 6 distribution_channel         0             1     3     9     0        5\n",
      " 7 reserved_room_type           0             1     1     1     0       10\n",
      " 8 assigned_room_type           0             1     1     1     0       12\n",
      " 9 deposit_type                 0             1    10    10     0        3\n",
      "10 agent                        0             1     1     4     0      334\n",
      "11 company                      0             1     1     4     0      353\n",
      "12 customer_type                0             1     5    15     0        4\n",
      "13 reservation_status           0             1     7     9     0        3\n",
      "   whitespace\n",
      " *      <int>\n",
      " 1          0\n",
      " 2          0\n",
      " 3          0\n",
      " 4          0\n",
      " 5          0\n",
      " 6          0\n",
      " 7          0\n",
      " 8          0\n",
      " 9          0\n",
      "10          0\n",
      "11          0\n",
      "12          0\n",
      "13          0\n",
      "\n",
      "-- Variable type: Date ---------------------------------------------------------\n",
      "# A tibble: 1 x 7\n",
      "  skim_variable           n_missing complete_rate min        max       \n",
      "* <chr>                       <int>         <dbl> <date>     <date>    \n",
      "1 reservation_status_date         0             1 2014-10-17 2017-09-14\n",
      "  median     n_unique\n",
      "* <date>        <int>\n",
      "1 2016-08-07      926\n",
      "\n",
      "-- Variable type: numeric ------------------------------------------------------\n",
      "# A tibble: 18 x 10\n",
      "   skim_variable                  n_missing complete_rate       mean       sd\n",
      " * <chr>                              <int>         <dbl>      <dbl>    <dbl>\n",
      " 1 is_canceled                            0          1       0.370     0.483 \n",
      " 2 lead_time                              0          1     104.      107.    \n",
      " 3 arrival_date_year                      0          1    2016.        0.707 \n",
      " 4 arrival_date_week_number               0          1      27.2      13.6   \n",
      " 5 arrival_date_day_of_month              0          1      15.8       8.78  \n",
      " 6 stays_in_weekend_nights                0          1       0.928     0.999 \n",
      " 7 stays_in_week_nights                   0          1       2.50      1.91  \n",
      " 8 adults                                 0          1       1.86      0.579 \n",
      " 9 children                               4          1.00    0.104     0.399 \n",
      "10 babies                                 0          1       0.00795   0.0974\n",
      "11 is_repeated_guest                      0          1       0.0319    0.176 \n",
      "12 previous_cancellations                 0          1       0.0871    0.844 \n",
      "13 previous_bookings_not_canceled         0          1       0.137     1.50  \n",
      "14 booking_changes                        0          1       0.221     0.652 \n",
      "15 days_in_waiting_list                   0          1       2.32     17.6   \n",
      "16 adr                                    0          1     102.       50.5   \n",
      "17 required_car_parking_spaces            0          1       0.0625    0.245 \n",
      "18 total_of_special_requests              0          1       0.571     0.793 \n",
      "        p0    p25    p50   p75  p100\n",
      " *   <dbl>  <dbl>  <dbl> <dbl> <dbl>\n",
      " 1    0       0      0       1     1\n",
      " 2    0      18     69     160   737\n",
      " 3 2015    2016   2016    2017  2017\n",
      " 4    1      16     28      38    53\n",
      " 5    1       8     16      23    31\n",
      " 6    0       0      1       2    19\n",
      " 7    0       1      2       3    50\n",
      " 8    0       2      2       2    55\n",
      " 9    0       0      0       0    10\n",
      "10    0       0      0       0    10\n",
      "11    0       0      0       0     1\n",
      "12    0       0      0       0    26\n",
      "13    0       0      0       0    72\n",
      "14    0       0      0       0    21\n",
      "15    0       0      0       0   391\n",
      "16   -6.38   69.3   94.6   126  5400\n",
      "17    0       0      0       0     8\n",
      "18    0       0      0       1     5\n"
     ]
    }
   ],
   "source": [
    "# advanced data summarization\n",
    "skim_without_charts(bookings_df)"
   ]
  },
  {
   "cell_type": "code",
   "execution_count": 10,
   "metadata": {},
   "outputs": [],
   "source": [
    "trimmed_df <- bookings_df %>% select(hotel, is_canceled, lead_time)"
   ]
  },
  {
   "cell_type": "code",
   "execution_count": 11,
   "metadata": {},
   "outputs": [
    {
     "data": {
      "text/html": [
       "<table class=\"dataframe\">\n",
       "<caption>A tibble: 6 × 3</caption>\n",
       "<thead>\n",
       "\t<tr><th scope=col>hotel</th><th scope=col>is_canceled</th><th scope=col>lead_time</th></tr>\n",
       "\t<tr><th scope=col>&lt;chr&gt;</th><th scope=col>&lt;dbl&gt;</th><th scope=col>&lt;dbl&gt;</th></tr>\n",
       "</thead>\n",
       "<tbody>\n",
       "\t<tr><td>Resort Hotel</td><td>0</td><td>342</td></tr>\n",
       "\t<tr><td>Resort Hotel</td><td>0</td><td>737</td></tr>\n",
       "\t<tr><td>Resort Hotel</td><td>0</td><td>  7</td></tr>\n",
       "\t<tr><td>Resort Hotel</td><td>0</td><td> 13</td></tr>\n",
       "\t<tr><td>Resort Hotel</td><td>0</td><td> 14</td></tr>\n",
       "\t<tr><td>Resort Hotel</td><td>0</td><td> 14</td></tr>\n",
       "</tbody>\n",
       "</table>\n"
      ],
      "text/latex": [
       "A tibble: 6 × 3\n",
       "\\begin{tabular}{lll}\n",
       " hotel & is\\_canceled & lead\\_time\\\\\n",
       " <chr> & <dbl> & <dbl>\\\\\n",
       "\\hline\n",
       "\t Resort Hotel & 0 & 342\\\\\n",
       "\t Resort Hotel & 0 & 737\\\\\n",
       "\t Resort Hotel & 0 &   7\\\\\n",
       "\t Resort Hotel & 0 &  13\\\\\n",
       "\t Resort Hotel & 0 &  14\\\\\n",
       "\t Resort Hotel & 0 &  14\\\\\n",
       "\\end{tabular}\n"
      ],
      "text/markdown": [
       "\n",
       "A tibble: 6 × 3\n",
       "\n",
       "| hotel &lt;chr&gt; | is_canceled &lt;dbl&gt; | lead_time &lt;dbl&gt; |\n",
       "|---|---|---|\n",
       "| Resort Hotel | 0 | 342 |\n",
       "| Resort Hotel | 0 | 737 |\n",
       "| Resort Hotel | 0 |   7 |\n",
       "| Resort Hotel | 0 |  13 |\n",
       "| Resort Hotel | 0 |  14 |\n",
       "| Resort Hotel | 0 |  14 |\n",
       "\n"
      ],
      "text/plain": [
       "  hotel        is_canceled lead_time\n",
       "1 Resort Hotel 0           342      \n",
       "2 Resort Hotel 0           737      \n",
       "3 Resort Hotel 0             7      \n",
       "4 Resort Hotel 0            13      \n",
       "5 Resort Hotel 0            14      \n",
       "6 Resort Hotel 0            14      "
      ]
     },
     "metadata": {},
     "output_type": "display_data"
    }
   ],
   "source": [
    "head(trimmed_df)"
   ]
  },
  {
   "cell_type": "code",
   "execution_count": 12,
   "metadata": {},
   "outputs": [],
   "source": [
    "trimmed_df <- bookings_df %>% select(hotel, is_canceled, lead_time) %>% rename(hotel_type = hotel)"
   ]
  },
  {
   "cell_type": "code",
   "execution_count": 13,
   "metadata": {},
   "outputs": [
    {
     "data": {
      "text/html": [
       "<table class=\"dataframe\">\n",
       "<caption>A tibble: 6 × 3</caption>\n",
       "<thead>\n",
       "\t<tr><th scope=col>hotel_type</th><th scope=col>is_canceled</th><th scope=col>lead_time</th></tr>\n",
       "\t<tr><th scope=col>&lt;chr&gt;</th><th scope=col>&lt;dbl&gt;</th><th scope=col>&lt;dbl&gt;</th></tr>\n",
       "</thead>\n",
       "<tbody>\n",
       "\t<tr><td>Resort Hotel</td><td>0</td><td>342</td></tr>\n",
       "\t<tr><td>Resort Hotel</td><td>0</td><td>737</td></tr>\n",
       "\t<tr><td>Resort Hotel</td><td>0</td><td>  7</td></tr>\n",
       "\t<tr><td>Resort Hotel</td><td>0</td><td> 13</td></tr>\n",
       "\t<tr><td>Resort Hotel</td><td>0</td><td> 14</td></tr>\n",
       "\t<tr><td>Resort Hotel</td><td>0</td><td> 14</td></tr>\n",
       "</tbody>\n",
       "</table>\n"
      ],
      "text/latex": [
       "A tibble: 6 × 3\n",
       "\\begin{tabular}{lll}\n",
       " hotel\\_type & is\\_canceled & lead\\_time\\\\\n",
       " <chr> & <dbl> & <dbl>\\\\\n",
       "\\hline\n",
       "\t Resort Hotel & 0 & 342\\\\\n",
       "\t Resort Hotel & 0 & 737\\\\\n",
       "\t Resort Hotel & 0 &   7\\\\\n",
       "\t Resort Hotel & 0 &  13\\\\\n",
       "\t Resort Hotel & 0 &  14\\\\\n",
       "\t Resort Hotel & 0 &  14\\\\\n",
       "\\end{tabular}\n"
      ],
      "text/markdown": [
       "\n",
       "A tibble: 6 × 3\n",
       "\n",
       "| hotel_type &lt;chr&gt; | is_canceled &lt;dbl&gt; | lead_time &lt;dbl&gt; |\n",
       "|---|---|---|\n",
       "| Resort Hotel | 0 | 342 |\n",
       "| Resort Hotel | 0 | 737 |\n",
       "| Resort Hotel | 0 |   7 |\n",
       "| Resort Hotel | 0 |  13 |\n",
       "| Resort Hotel | 0 |  14 |\n",
       "| Resort Hotel | 0 |  14 |\n",
       "\n"
      ],
      "text/plain": [
       "  hotel_type   is_canceled lead_time\n",
       "1 Resort Hotel 0           342      \n",
       "2 Resort Hotel 0           737      \n",
       "3 Resort Hotel 0             7      \n",
       "4 Resort Hotel 0            13      \n",
       "5 Resort Hotel 0            14      \n",
       "6 Resort Hotel 0            14      "
      ]
     },
     "metadata": {},
     "output_type": "display_data"
    }
   ],
   "source": [
    "head(trimmed_df)"
   ]
  },
  {
   "cell_type": "markdown",
   "metadata": {},
   "source": [
    "**unite() :** combine columns"
   ]
  },
  {
   "cell_type": "code",
   "execution_count": 14,
   "metadata": {},
   "outputs": [],
   "source": [
    "example_df <- bookings_df %>% select(arrival_date_year, arrival_date_month) %>% unite(arrival_month_year, c(\"arrival_date_month\",\"arrival_date_year\"), sep=\" \")"
   ]
  },
  {
   "cell_type": "code",
   "execution_count": 15,
   "metadata": {},
   "outputs": [
    {
     "data": {
      "text/html": [
       "<table class=\"dataframe\">\n",
       "<caption>A tibble: 6 × 1</caption>\n",
       "<thead>\n",
       "\t<tr><th scope=col>arrival_month_year</th></tr>\n",
       "\t<tr><th scope=col>&lt;chr&gt;</th></tr>\n",
       "</thead>\n",
       "<tbody>\n",
       "\t<tr><td>July 2015</td></tr>\n",
       "\t<tr><td>July 2015</td></tr>\n",
       "\t<tr><td>July 2015</td></tr>\n",
       "\t<tr><td>July 2015</td></tr>\n",
       "\t<tr><td>July 2015</td></tr>\n",
       "\t<tr><td>July 2015</td></tr>\n",
       "</tbody>\n",
       "</table>\n"
      ],
      "text/latex": [
       "A tibble: 6 × 1\n",
       "\\begin{tabular}{l}\n",
       " arrival\\_month\\_year\\\\\n",
       " <chr>\\\\\n",
       "\\hline\n",
       "\t July 2015\\\\\n",
       "\t July 2015\\\\\n",
       "\t July 2015\\\\\n",
       "\t July 2015\\\\\n",
       "\t July 2015\\\\\n",
       "\t July 2015\\\\\n",
       "\\end{tabular}\n"
      ],
      "text/markdown": [
       "\n",
       "A tibble: 6 × 1\n",
       "\n",
       "| arrival_month_year &lt;chr&gt; |\n",
       "|---|\n",
       "| July 2015 |\n",
       "| July 2015 |\n",
       "| July 2015 |\n",
       "| July 2015 |\n",
       "| July 2015 |\n",
       "| July 2015 |\n",
       "\n"
      ],
      "text/plain": [
       "  arrival_month_year\n",
       "1 July 2015         \n",
       "2 July 2015         \n",
       "3 July 2015         \n",
       "4 July 2015         \n",
       "5 July 2015         \n",
       "6 July 2015         "
      ]
     },
     "metadata": {},
     "output_type": "display_data"
    }
   ],
   "source": [
    "head(example_df)"
   ]
  },
  {
   "cell_type": "code",
   "execution_count": 17,
   "metadata": {},
   "outputs": [
    {
     "data": {
      "text/html": [
       "<table class=\"dataframe\">\n",
       "<caption>A tibble: 6 × 33</caption>\n",
       "<thead>\n",
       "\t<tr><th scope=col>hotel</th><th scope=col>is_canceled</th><th scope=col>lead_time</th><th scope=col>arrival_date_year</th><th scope=col>arrival_date_month</th><th scope=col>arrival_date_week_number</th><th scope=col>arrival_date_day_of_month</th><th scope=col>stays_in_weekend_nights</th><th scope=col>stays_in_week_nights</th><th scope=col>adults</th><th scope=col>...</th><th scope=col>agent</th><th scope=col>company</th><th scope=col>days_in_waiting_list</th><th scope=col>customer_type</th><th scope=col>adr</th><th scope=col>required_car_parking_spaces</th><th scope=col>total_of_special_requests</th><th scope=col>reservation_status</th><th scope=col>reservation_status_date</th><th scope=col>guests</th></tr>\n",
       "\t<tr><th scope=col>&lt;chr&gt;</th><th scope=col>&lt;dbl&gt;</th><th scope=col>&lt;dbl&gt;</th><th scope=col>&lt;dbl&gt;</th><th scope=col>&lt;chr&gt;</th><th scope=col>&lt;dbl&gt;</th><th scope=col>&lt;dbl&gt;</th><th scope=col>&lt;dbl&gt;</th><th scope=col>&lt;dbl&gt;</th><th scope=col>&lt;dbl&gt;</th><th scope=col>...</th><th scope=col>&lt;chr&gt;</th><th scope=col>&lt;chr&gt;</th><th scope=col>&lt;dbl&gt;</th><th scope=col>&lt;chr&gt;</th><th scope=col>&lt;dbl&gt;</th><th scope=col>&lt;dbl&gt;</th><th scope=col>&lt;dbl&gt;</th><th scope=col>&lt;chr&gt;</th><th scope=col>&lt;date&gt;</th><th scope=col>&lt;dbl&gt;</th></tr>\n",
       "</thead>\n",
       "<tbody>\n",
       "\t<tr><td>Resort Hotel</td><td>0</td><td>342</td><td>2015</td><td>July</td><td>27</td><td>1</td><td>0</td><td>0</td><td>2</td><td>...</td><td>NULL</td><td>NULL</td><td>0</td><td>Transient</td><td> 0</td><td>0</td><td>0</td><td>Check-Out</td><td>2015-07-01</td><td>2</td></tr>\n",
       "\t<tr><td>Resort Hotel</td><td>0</td><td>737</td><td>2015</td><td>July</td><td>27</td><td>1</td><td>0</td><td>0</td><td>2</td><td>...</td><td>NULL</td><td>NULL</td><td>0</td><td>Transient</td><td> 0</td><td>0</td><td>0</td><td>Check-Out</td><td>2015-07-01</td><td>2</td></tr>\n",
       "\t<tr><td>Resort Hotel</td><td>0</td><td>  7</td><td>2015</td><td>July</td><td>27</td><td>1</td><td>0</td><td>1</td><td>1</td><td>...</td><td>NULL</td><td>NULL</td><td>0</td><td>Transient</td><td>75</td><td>0</td><td>0</td><td>Check-Out</td><td>2015-07-02</td><td>1</td></tr>\n",
       "\t<tr><td>Resort Hotel</td><td>0</td><td> 13</td><td>2015</td><td>July</td><td>27</td><td>1</td><td>0</td><td>1</td><td>1</td><td>...</td><td>304 </td><td>NULL</td><td>0</td><td>Transient</td><td>75</td><td>0</td><td>0</td><td>Check-Out</td><td>2015-07-02</td><td>1</td></tr>\n",
       "\t<tr><td>Resort Hotel</td><td>0</td><td> 14</td><td>2015</td><td>July</td><td>27</td><td>1</td><td>0</td><td>2</td><td>2</td><td>...</td><td>240 </td><td>NULL</td><td>0</td><td>Transient</td><td>98</td><td>0</td><td>1</td><td>Check-Out</td><td>2015-07-03</td><td>2</td></tr>\n",
       "\t<tr><td>Resort Hotel</td><td>0</td><td> 14</td><td>2015</td><td>July</td><td>27</td><td>1</td><td>0</td><td>2</td><td>2</td><td>...</td><td>240 </td><td>NULL</td><td>0</td><td>Transient</td><td>98</td><td>0</td><td>1</td><td>Check-Out</td><td>2015-07-03</td><td>2</td></tr>\n",
       "</tbody>\n",
       "</table>\n"
      ],
      "text/latex": [
       "A tibble: 6 × 33\n",
       "\\begin{tabular}{lllllllllllllllllllll}\n",
       " hotel & is\\_canceled & lead\\_time & arrival\\_date\\_year & arrival\\_date\\_month & arrival\\_date\\_week\\_number & arrival\\_date\\_day\\_of\\_month & stays\\_in\\_weekend\\_nights & stays\\_in\\_week\\_nights & adults & ... & agent & company & days\\_in\\_waiting\\_list & customer\\_type & adr & required\\_car\\_parking\\_spaces & total\\_of\\_special\\_requests & reservation\\_status & reservation\\_status\\_date & guests\\\\\n",
       " <chr> & <dbl> & <dbl> & <dbl> & <chr> & <dbl> & <dbl> & <dbl> & <dbl> & <dbl> & ... & <chr> & <chr> & <dbl> & <chr> & <dbl> & <dbl> & <dbl> & <chr> & <date> & <dbl>\\\\\n",
       "\\hline\n",
       "\t Resort Hotel & 0 & 342 & 2015 & July & 27 & 1 & 0 & 0 & 2 & ... & NULL & NULL & 0 & Transient &  0 & 0 & 0 & Check-Out & 2015-07-01 & 2\\\\\n",
       "\t Resort Hotel & 0 & 737 & 2015 & July & 27 & 1 & 0 & 0 & 2 & ... & NULL & NULL & 0 & Transient &  0 & 0 & 0 & Check-Out & 2015-07-01 & 2\\\\\n",
       "\t Resort Hotel & 0 &   7 & 2015 & July & 27 & 1 & 0 & 1 & 1 & ... & NULL & NULL & 0 & Transient & 75 & 0 & 0 & Check-Out & 2015-07-02 & 1\\\\\n",
       "\t Resort Hotel & 0 &  13 & 2015 & July & 27 & 1 & 0 & 1 & 1 & ... & 304  & NULL & 0 & Transient & 75 & 0 & 0 & Check-Out & 2015-07-02 & 1\\\\\n",
       "\t Resort Hotel & 0 &  14 & 2015 & July & 27 & 1 & 0 & 2 & 2 & ... & 240  & NULL & 0 & Transient & 98 & 0 & 1 & Check-Out & 2015-07-03 & 2\\\\\n",
       "\t Resort Hotel & 0 &  14 & 2015 & July & 27 & 1 & 0 & 2 & 2 & ... & 240  & NULL & 0 & Transient & 98 & 0 & 1 & Check-Out & 2015-07-03 & 2\\\\\n",
       "\\end{tabular}\n"
      ],
      "text/markdown": [
       "\n",
       "A tibble: 6 × 33\n",
       "\n",
       "| hotel &lt;chr&gt; | is_canceled &lt;dbl&gt; | lead_time &lt;dbl&gt; | arrival_date_year &lt;dbl&gt; | arrival_date_month &lt;chr&gt; | arrival_date_week_number &lt;dbl&gt; | arrival_date_day_of_month &lt;dbl&gt; | stays_in_weekend_nights &lt;dbl&gt; | stays_in_week_nights &lt;dbl&gt; | adults &lt;dbl&gt; | ... ... | agent &lt;chr&gt; | company &lt;chr&gt; | days_in_waiting_list &lt;dbl&gt; | customer_type &lt;chr&gt; | adr &lt;dbl&gt; | required_car_parking_spaces &lt;dbl&gt; | total_of_special_requests &lt;dbl&gt; | reservation_status &lt;chr&gt; | reservation_status_date &lt;date&gt; | guests &lt;dbl&gt; |\n",
       "|---|---|---|---|---|---|---|---|---|---|---|---|---|---|---|---|---|---|---|---|---|\n",
       "| Resort Hotel | 0 | 342 | 2015 | July | 27 | 1 | 0 | 0 | 2 | ... | NULL | NULL | 0 | Transient |  0 | 0 | 0 | Check-Out | 2015-07-01 | 2 |\n",
       "| Resort Hotel | 0 | 737 | 2015 | July | 27 | 1 | 0 | 0 | 2 | ... | NULL | NULL | 0 | Transient |  0 | 0 | 0 | Check-Out | 2015-07-01 | 2 |\n",
       "| Resort Hotel | 0 |   7 | 2015 | July | 27 | 1 | 0 | 1 | 1 | ... | NULL | NULL | 0 | Transient | 75 | 0 | 0 | Check-Out | 2015-07-02 | 1 |\n",
       "| Resort Hotel | 0 |  13 | 2015 | July | 27 | 1 | 0 | 1 | 1 | ... | 304  | NULL | 0 | Transient | 75 | 0 | 0 | Check-Out | 2015-07-02 | 1 |\n",
       "| Resort Hotel | 0 |  14 | 2015 | July | 27 | 1 | 0 | 2 | 2 | ... | 240  | NULL | 0 | Transient | 98 | 0 | 1 | Check-Out | 2015-07-03 | 2 |\n",
       "| Resort Hotel | 0 |  14 | 2015 | July | 27 | 1 | 0 | 2 | 2 | ... | 240  | NULL | 0 | Transient | 98 | 0 | 1 | Check-Out | 2015-07-03 | 2 |\n",
       "\n"
      ],
      "text/plain": [
       "  hotel        is_canceled lead_time arrival_date_year arrival_date_month\n",
       "1 Resort Hotel 0           342       2015              July              \n",
       "2 Resort Hotel 0           737       2015              July              \n",
       "3 Resort Hotel 0             7       2015              July              \n",
       "4 Resort Hotel 0            13       2015              July              \n",
       "5 Resort Hotel 0            14       2015              July              \n",
       "6 Resort Hotel 0            14       2015              July              \n",
       "  arrival_date_week_number arrival_date_day_of_month stays_in_weekend_nights\n",
       "1 27                       1                         0                      \n",
       "2 27                       1                         0                      \n",
       "3 27                       1                         0                      \n",
       "4 27                       1                         0                      \n",
       "5 27                       1                         0                      \n",
       "6 27                       1                         0                      \n",
       "  stays_in_week_nights adults ... agent company days_in_waiting_list\n",
       "1 0                    2      ... NULL  NULL    0                   \n",
       "2 0                    2      ... NULL  NULL    0                   \n",
       "3 1                    1      ... NULL  NULL    0                   \n",
       "4 1                    1      ... 304   NULL    0                   \n",
       "5 2                    2      ... 240   NULL    0                   \n",
       "6 2                    2      ... 240   NULL    0                   \n",
       "  customer_type adr required_car_parking_spaces total_of_special_requests\n",
       "1 Transient      0  0                           0                        \n",
       "2 Transient      0  0                           0                        \n",
       "3 Transient     75  0                           0                        \n",
       "4 Transient     75  0                           0                        \n",
       "5 Transient     98  0                           1                        \n",
       "6 Transient     98  0                           1                        \n",
       "  reservation_status reservation_status_date guests\n",
       "1 Check-Out          2015-07-01              2     \n",
       "2 Check-Out          2015-07-01              2     \n",
       "3 Check-Out          2015-07-02              1     \n",
       "4 Check-Out          2015-07-02              1     \n",
       "5 Check-Out          2015-07-03              2     \n",
       "6 Check-Out          2015-07-03              2     "
      ]
     },
     "metadata": {},
     "output_type": "display_data"
    }
   ],
   "source": [
    "example_df <- bookings_df %>% mutate(guests = adults+children+babies)\n",
    "head(example_df)"
   ]
  },
  {
   "cell_type": "code",
   "execution_count": 22,
   "metadata": {},
   "outputs": [],
   "source": [
    "example_df <- bookings_df %>% summarize(number_cancelled = sum(is_canceled),average_lead_time = mean(lead_time))"
   ]
  },
  {
   "cell_type": "code",
   "execution_count": 23,
   "metadata": {},
   "outputs": [
    {
     "data": {
      "text/html": [
       "<table class=\"dataframe\">\n",
       "<caption>A tibble: 1 × 2</caption>\n",
       "<thead>\n",
       "\t<tr><th scope=col>number_cancelled</th><th scope=col>average_lead_time</th></tr>\n",
       "\t<tr><th scope=col>&lt;dbl&gt;</th><th scope=col>&lt;dbl&gt;</th></tr>\n",
       "</thead>\n",
       "<tbody>\n",
       "\t<tr><td>44224</td><td>104.0114</td></tr>\n",
       "</tbody>\n",
       "</table>\n"
      ],
      "text/latex": [
       "A tibble: 1 × 2\n",
       "\\begin{tabular}{ll}\n",
       " number\\_cancelled & average\\_lead\\_time\\\\\n",
       " <dbl> & <dbl>\\\\\n",
       "\\hline\n",
       "\t 44224 & 104.0114\\\\\n",
       "\\end{tabular}\n"
      ],
      "text/markdown": [
       "\n",
       "A tibble: 1 × 2\n",
       "\n",
       "| number_cancelled &lt;dbl&gt; | average_lead_time &lt;dbl&gt; |\n",
       "|---|---|\n",
       "| 44224 | 104.0114 |\n",
       "\n"
      ],
      "text/plain": [
       "  number_cancelled average_lead_time\n",
       "1 44224            104.0114         "
      ]
     },
     "metadata": {},
     "output_type": "display_data"
    }
   ],
   "source": [
    "head(example_df)"
   ]
  },
  {
   "cell_type": "code",
   "execution_count": null,
   "metadata": {},
   "outputs": [],
   "source": []
  }
 ],
 "metadata": {
  "kernelspec": {
   "display_name": "R",
   "language": "R",
   "name": "ir"
  },
  "language_info": {
   "codemirror_mode": "r",
   "file_extension": ".r",
   "mimetype": "text/x-r-source",
   "name": "R",
   "pygments_lexer": "r",
   "version": "4.1.2"
  }
 },
 "nbformat": 4,
 "nbformat_minor": 4
}
