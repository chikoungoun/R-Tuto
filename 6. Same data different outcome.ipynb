{
 "cells": [
  {
   "cell_type": "markdown",
   "metadata": {},
   "source": [
    "# Anscombe's quartet"
   ]
  },
  {
   "cell_type": "code",
   "execution_count": 1,
   "metadata": {},
   "outputs": [
    {
     "name": "stderr",
     "output_type": "stream",
     "text": [
      "-- \u001b[1mAttaching packages\u001b[22m ------------------------------------------------------------------------------- tidyverse 1.3.1 --\n",
      "\n",
      "\u001b[32mv\u001b[39m \u001b[34mggplot2\u001b[39m 3.3.5     \u001b[32mv\u001b[39m \u001b[34mpurrr  \u001b[39m 0.3.4\n",
      "\u001b[32mv\u001b[39m \u001b[34mtibble \u001b[39m 3.1.5     \u001b[32mv\u001b[39m \u001b[34mdplyr  \u001b[39m 1.0.7\n",
      "\u001b[32mv\u001b[39m \u001b[34mtidyr  \u001b[39m 1.1.4     \u001b[32mv\u001b[39m \u001b[34mstringr\u001b[39m 1.4.0\n",
      "\u001b[32mv\u001b[39m \u001b[34mreadr  \u001b[39m 2.0.2     \u001b[32mv\u001b[39m \u001b[34mforcats\u001b[39m 0.5.1\n",
      "\n",
      "-- \u001b[1mConflicts\u001b[22m ---------------------------------------------------------------------------------- tidyverse_conflicts() --\n",
      "\u001b[31mx\u001b[39m \u001b[34mdplyr\u001b[39m::\u001b[32mfilter()\u001b[39m masks \u001b[34mstats\u001b[39m::filter()\n",
      "\u001b[31mx\u001b[39m \u001b[34mdplyr\u001b[39m::\u001b[32mlag()\u001b[39m    masks \u001b[34mstats\u001b[39m::lag()\n",
      "\n",
      "\n",
      "Attachement du package : 'janitor'\n",
      "\n",
      "\n",
      "Les objets suivants sont masqués depuis 'package:stats':\n",
      "\n",
      "    chisq.test, fisher.test\n",
      "\n",
      "\n"
     ]
    }
   ],
   "source": [
    "library(tidyverse)\n",
    "library(skimr)\n",
    "library(janitor)"
   ]
  },
  {
   "cell_type": "code",
   "execution_count": 2,
   "metadata": {},
   "outputs": [],
   "source": [
    "library(Tmisc)"
   ]
  },
  {
   "cell_type": "code",
   "execution_count": 3,
   "metadata": {},
   "outputs": [],
   "source": [
    "data(quartet)"
   ]
  },
  {
   "cell_type": "code",
   "execution_count": 4,
   "metadata": {},
   "outputs": [
    {
     "data": {
      "text/html": [
       "<table class=\"dataframe\">\n",
       "<caption>A data.frame: 6 × 3</caption>\n",
       "<thead>\n",
       "\t<tr><th></th><th scope=col>set</th><th scope=col>x</th><th scope=col>y</th></tr>\n",
       "\t<tr><th></th><th scope=col>&lt;fct&gt;</th><th scope=col>&lt;int&gt;</th><th scope=col>&lt;dbl&gt;</th></tr>\n",
       "</thead>\n",
       "<tbody>\n",
       "\t<tr><th scope=row>1</th><td>I</td><td>10</td><td>8.04</td></tr>\n",
       "\t<tr><th scope=row>2</th><td>I</td><td> 8</td><td>6.95</td></tr>\n",
       "\t<tr><th scope=row>3</th><td>I</td><td>13</td><td>7.58</td></tr>\n",
       "\t<tr><th scope=row>4</th><td>I</td><td> 9</td><td>8.81</td></tr>\n",
       "\t<tr><th scope=row>5</th><td>I</td><td>11</td><td>8.33</td></tr>\n",
       "\t<tr><th scope=row>6</th><td>I</td><td>14</td><td>9.96</td></tr>\n",
       "</tbody>\n",
       "</table>\n"
      ],
      "text/latex": [
       "A data.frame: 6 × 3\n",
       "\\begin{tabular}{r|lll}\n",
       "  & set & x & y\\\\\n",
       "  & <fct> & <int> & <dbl>\\\\\n",
       "\\hline\n",
       "\t1 & I & 10 & 8.04\\\\\n",
       "\t2 & I &  8 & 6.95\\\\\n",
       "\t3 & I & 13 & 7.58\\\\\n",
       "\t4 & I &  9 & 8.81\\\\\n",
       "\t5 & I & 11 & 8.33\\\\\n",
       "\t6 & I & 14 & 9.96\\\\\n",
       "\\end{tabular}\n"
      ],
      "text/markdown": [
       "\n",
       "A data.frame: 6 × 3\n",
       "\n",
       "| <!--/--> | set &lt;fct&gt; | x &lt;int&gt; | y &lt;dbl&gt; |\n",
       "|---|---|---|---|\n",
       "| 1 | I | 10 | 8.04 |\n",
       "| 2 | I |  8 | 6.95 |\n",
       "| 3 | I | 13 | 7.58 |\n",
       "| 4 | I |  9 | 8.81 |\n",
       "| 5 | I | 11 | 8.33 |\n",
       "| 6 | I | 14 | 9.96 |\n",
       "\n"
      ],
      "text/plain": [
       "  set x  y   \n",
       "1 I   10 8.04\n",
       "2 I    8 6.95\n",
       "3 I   13 7.58\n",
       "4 I    9 8.81\n",
       "5 I   11 8.33\n",
       "6 I   14 9.96"
      ]
     },
     "metadata": {},
     "output_type": "display_data"
    }
   ],
   "source": [
    "head(quartet)"
   ]
  },
  {
   "cell_type": "code",
   "execution_count": 6,
   "metadata": {},
   "outputs": [
    {
     "name": "stdout",
     "output_type": "stream",
     "text": [
      "'data.frame':\t44 obs. of  3 variables:\n",
      " $ set: Factor w/ 4 levels \"I\",\"II\",\"III\",..: 1 1 1 1 1 1 1 1 1 1 ...\n",
      " $ x  : int  10 8 13 9 11 14 6 4 12 7 ...\n",
      " $ y  : num  8.04 6.95 7.58 8.81 8.33 ...\n"
     ]
    }
   ],
   "source": [
    "str(quartet)"
   ]
  },
  {
   "cell_type": "code",
   "execution_count": 8,
   "metadata": {},
   "outputs": [
    {
     "data": {
      "text/html": [
       "<table class=\"dataframe\">\n",
       "<caption>A tibble: 4 × 6</caption>\n",
       "<thead>\n",
       "\t<tr><th scope=col>set</th><th scope=col>mean(x)</th><th scope=col>sd(x)</th><th scope=col>mean(y)</th><th scope=col>sd(y)</th><th scope=col>cor(x, y)</th></tr>\n",
       "\t<tr><th scope=col>&lt;fct&gt;</th><th scope=col>&lt;dbl&gt;</th><th scope=col>&lt;dbl&gt;</th><th scope=col>&lt;dbl&gt;</th><th scope=col>&lt;dbl&gt;</th><th scope=col>&lt;dbl&gt;</th></tr>\n",
       "</thead>\n",
       "<tbody>\n",
       "\t<tr><td>I  </td><td>9</td><td>3.316625</td><td>7.500909</td><td>2.031568</td><td>0.8164205</td></tr>\n",
       "\t<tr><td>II </td><td>9</td><td>3.316625</td><td>7.500909</td><td>2.031657</td><td>0.8162365</td></tr>\n",
       "\t<tr><td>III</td><td>9</td><td>3.316625</td><td>7.500000</td><td>2.030424</td><td>0.8162867</td></tr>\n",
       "\t<tr><td>IV </td><td>9</td><td>3.316625</td><td>7.500909</td><td>2.030579</td><td>0.8165214</td></tr>\n",
       "</tbody>\n",
       "</table>\n"
      ],
      "text/latex": [
       "A tibble: 4 × 6\n",
       "\\begin{tabular}{llllll}\n",
       " set & mean(x) & sd(x) & mean(y) & sd(y) & cor(x, y)\\\\\n",
       " <fct> & <dbl> & <dbl> & <dbl> & <dbl> & <dbl>\\\\\n",
       "\\hline\n",
       "\t I   & 9 & 3.316625 & 7.500909 & 2.031568 & 0.8164205\\\\\n",
       "\t II  & 9 & 3.316625 & 7.500909 & 2.031657 & 0.8162365\\\\\n",
       "\t III & 9 & 3.316625 & 7.500000 & 2.030424 & 0.8162867\\\\\n",
       "\t IV  & 9 & 3.316625 & 7.500909 & 2.030579 & 0.8165214\\\\\n",
       "\\end{tabular}\n"
      ],
      "text/markdown": [
       "\n",
       "A tibble: 4 × 6\n",
       "\n",
       "| set &lt;fct&gt; | mean(x) &lt;dbl&gt; | sd(x) &lt;dbl&gt; | mean(y) &lt;dbl&gt; | sd(y) &lt;dbl&gt; | cor(x, y) &lt;dbl&gt; |\n",
       "|---|---|---|---|---|---|\n",
       "| I   | 9 | 3.316625 | 7.500909 | 2.031568 | 0.8164205 |\n",
       "| II  | 9 | 3.316625 | 7.500909 | 2.031657 | 0.8162365 |\n",
       "| III | 9 | 3.316625 | 7.500000 | 2.030424 | 0.8162867 |\n",
       "| IV  | 9 | 3.316625 | 7.500909 | 2.030579 | 0.8165214 |\n",
       "\n"
      ],
      "text/plain": [
       "  set mean(x) sd(x)    mean(y)  sd(y)    cor(x, y)\n",
       "1 I   9       3.316625 7.500909 2.031568 0.8164205\n",
       "2 II  9       3.316625 7.500909 2.031657 0.8162365\n",
       "3 III 9       3.316625 7.500000 2.030424 0.8162867\n",
       "4 IV  9       3.316625 7.500909 2.030579 0.8165214"
      ]
     },
     "metadata": {},
     "output_type": "display_data"
    }
   ],
   "source": [
    "quartet %>% group_by(set) %>% summarize(mean(x),sd(x),mean(y),sd(y),cor(x,y))"
   ]
  },
  {
   "cell_type": "markdown",
   "metadata": {},
   "source": [
    "We can notice that the datasets in here look pretty much identical"
   ]
  },
  {
   "cell_type": "code",
   "execution_count": 13,
   "metadata": {},
   "outputs": [
    {
     "ename": "ERROR",
     "evalue": "Error in validate_facets(x): objet 'set' introuvable\n",
     "output_type": "error",
     "traceback": [
      "Error in validate_facets(x): objet 'set' introuvable\nTraceback:\n",
      "1. facet_wrap(-set)",
      "2. wrap_as_facets_list(facets)",
      "3. as_facets_list(x)",
      "4. validate_facets(x)"
     ]
    }
   ],
   "source": [
    "ggplot(quartet,aes(x,y)) + geom_point() + geom_smooth(method = lm,se =FALSE )+facet_wrap(-set)"
   ]
  },
  {
   "cell_type": "code",
   "execution_count": null,
   "metadata": {},
   "outputs": [],
   "source": []
  }
 ],
 "metadata": {
  "kernelspec": {
   "display_name": "R",
   "language": "R",
   "name": "ir"
  },
  "language_info": {
   "codemirror_mode": "r",
   "file_extension": ".r",
   "mimetype": "text/x-r-source",
   "name": "R",
   "pygments_lexer": "r",
   "version": "4.1.2"
  }
 },
 "nbformat": 4,
 "nbformat_minor": 4
}
