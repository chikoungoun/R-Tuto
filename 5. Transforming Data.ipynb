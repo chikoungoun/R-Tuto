{
 "cells": [
  {
   "cell_type": "code",
   "execution_count": 1,
   "metadata": {},
   "outputs": [
    {
     "name": "stderr",
     "output_type": "stream",
     "text": [
      "-- \u001b[1mAttaching packages\u001b[22m ------------------------------------------------------------------------------- tidyverse 1.3.1 --\n",
      "\n",
      "\u001b[32mv\u001b[39m \u001b[34mggplot2\u001b[39m 3.3.5     \u001b[32mv\u001b[39m \u001b[34mpurrr  \u001b[39m 0.3.4\n",
      "\u001b[32mv\u001b[39m \u001b[34mtibble \u001b[39m 3.1.5     \u001b[32mv\u001b[39m \u001b[34mdplyr  \u001b[39m 1.0.7\n",
      "\u001b[32mv\u001b[39m \u001b[34mtidyr  \u001b[39m 1.1.4     \u001b[32mv\u001b[39m \u001b[34mstringr\u001b[39m 1.4.0\n",
      "\u001b[32mv\u001b[39m \u001b[34mreadr  \u001b[39m 2.0.2     \u001b[32mv\u001b[39m \u001b[34mforcats\u001b[39m 0.5.1\n",
      "\n",
      "-- \u001b[1mConflicts\u001b[22m ---------------------------------------------------------------------------------- tidyverse_conflicts() --\n",
      "\u001b[31mx\u001b[39m \u001b[34mdplyr\u001b[39m::\u001b[32mfilter()\u001b[39m masks \u001b[34mstats\u001b[39m::filter()\n",
      "\u001b[31mx\u001b[39m \u001b[34mdplyr\u001b[39m::\u001b[32mlag()\u001b[39m    masks \u001b[34mstats\u001b[39m::lag()\n",
      "\n",
      "\n",
      "Attachement du package : 'janitor'\n",
      "\n",
      "\n",
      "Les objets suivants sont masqués depuis 'package:stats':\n",
      "\n",
      "    chisq.test, fisher.test\n",
      "\n",
      "\n"
     ]
    }
   ],
   "source": [
    "library(tidyverse)\n",
    "library(skimr)\n",
    "library(janitor)\n"
   ]
  },
  {
   "cell_type": "code",
   "execution_count": 2,
   "metadata": {},
   "outputs": [],
   "source": [
    "id <- c(1:10)\n",
    "name <- c(\"John Mendes\", \"Rob Stewart\", \"Rachel Abrahamson\", \"Christy Hickman\", \"Johnson Harper\", \"Candace Miller\", \"Carlson Landy\", \"Pansy Jordan\", \"Darius Berry\", \"Claudia Garcia\")\n",
    "job_title <- c(\"Professional\", \"Programmer\", \"Management\", \"Clerical\", \"Developer\", \"Programmer\", \"Management\", \"Clerical\", \"Developer\", \"Programmer\")\n",
    "employee <- data.frame(id, name, job_title)\n",
    "\n",
    "employee <- data.frame(id, name, job_title)"
   ]
  },
  {
   "cell_type": "code",
   "execution_count": 3,
   "metadata": {},
   "outputs": [
    {
     "name": "stdout",
     "output_type": "stream",
     "text": [
      "   id              name    job_title\n",
      "1   1       John Mendes Professional\n",
      "2   2       Rob Stewart   Programmer\n",
      "3   3 Rachel Abrahamson   Management\n",
      "4   4   Christy Hickman     Clerical\n",
      "5   5    Johnson Harper    Developer\n",
      "6   6    Candace Miller   Programmer\n",
      "7   7     Carlson Landy   Management\n",
      "8   8      Pansy Jordan     Clerical\n",
      "9   9      Darius Berry    Developer\n",
      "10 10    Claudia Garcia   Programmer\n"
     ]
    }
   ],
   "source": [
    "print(employee)"
   ]
  },
  {
   "cell_type": "markdown",
   "metadata": {},
   "source": [
    "**separate() :** split the target following a specific separator"
   ]
  },
  {
   "cell_type": "code",
   "execution_count": 4,
   "metadata": {},
   "outputs": [],
   "source": [
    "sep_employee <- separate(employee,name,into = c('first_name','last_name'),sep = ' ')"
   ]
  },
  {
   "cell_type": "code",
   "execution_count": 5,
   "metadata": {},
   "outputs": [
    {
     "data": {
      "text/html": [
       "<table class=\"dataframe\">\n",
       "<caption>A data.frame: 10 × 4</caption>\n",
       "<thead>\n",
       "\t<tr><th scope=col>id</th><th scope=col>first_name</th><th scope=col>last_name</th><th scope=col>job_title</th></tr>\n",
       "\t<tr><th scope=col>&lt;int&gt;</th><th scope=col>&lt;chr&gt;</th><th scope=col>&lt;chr&gt;</th><th scope=col>&lt;chr&gt;</th></tr>\n",
       "</thead>\n",
       "<tbody>\n",
       "\t<tr><td> 1</td><td>John   </td><td>Mendes    </td><td>Professional</td></tr>\n",
       "\t<tr><td> 2</td><td>Rob    </td><td>Stewart   </td><td>Programmer  </td></tr>\n",
       "\t<tr><td> 3</td><td>Rachel </td><td>Abrahamson</td><td>Management  </td></tr>\n",
       "\t<tr><td> 4</td><td>Christy</td><td>Hickman   </td><td>Clerical    </td></tr>\n",
       "\t<tr><td> 5</td><td>Johnson</td><td>Harper    </td><td>Developer   </td></tr>\n",
       "\t<tr><td> 6</td><td>Candace</td><td>Miller    </td><td>Programmer  </td></tr>\n",
       "\t<tr><td> 7</td><td>Carlson</td><td>Landy     </td><td>Management  </td></tr>\n",
       "\t<tr><td> 8</td><td>Pansy  </td><td>Jordan    </td><td>Clerical    </td></tr>\n",
       "\t<tr><td> 9</td><td>Darius </td><td>Berry     </td><td>Developer   </td></tr>\n",
       "\t<tr><td>10</td><td>Claudia</td><td>Garcia    </td><td>Programmer  </td></tr>\n",
       "</tbody>\n",
       "</table>\n"
      ],
      "text/latex": [
       "A data.frame: 10 × 4\n",
       "\\begin{tabular}{llll}\n",
       " id & first\\_name & last\\_name & job\\_title\\\\\n",
       " <int> & <chr> & <chr> & <chr>\\\\\n",
       "\\hline\n",
       "\t  1 & John    & Mendes     & Professional\\\\\n",
       "\t  2 & Rob     & Stewart    & Programmer  \\\\\n",
       "\t  3 & Rachel  & Abrahamson & Management  \\\\\n",
       "\t  4 & Christy & Hickman    & Clerical    \\\\\n",
       "\t  5 & Johnson & Harper     & Developer   \\\\\n",
       "\t  6 & Candace & Miller     & Programmer  \\\\\n",
       "\t  7 & Carlson & Landy      & Management  \\\\\n",
       "\t  8 & Pansy   & Jordan     & Clerical    \\\\\n",
       "\t  9 & Darius  & Berry      & Developer   \\\\\n",
       "\t 10 & Claudia & Garcia     & Programmer  \\\\\n",
       "\\end{tabular}\n"
      ],
      "text/markdown": [
       "\n",
       "A data.frame: 10 × 4\n",
       "\n",
       "| id &lt;int&gt; | first_name &lt;chr&gt; | last_name &lt;chr&gt; | job_title &lt;chr&gt; |\n",
       "|---|---|---|---|\n",
       "|  1 | John    | Mendes     | Professional |\n",
       "|  2 | Rob     | Stewart    | Programmer   |\n",
       "|  3 | Rachel  | Abrahamson | Management   |\n",
       "|  4 | Christy | Hickman    | Clerical     |\n",
       "|  5 | Johnson | Harper     | Developer    |\n",
       "|  6 | Candace | Miller     | Programmer   |\n",
       "|  7 | Carlson | Landy      | Management   |\n",
       "|  8 | Pansy   | Jordan     | Clerical     |\n",
       "|  9 | Darius  | Berry      | Developer    |\n",
       "| 10 | Claudia | Garcia     | Programmer   |\n",
       "\n"
      ],
      "text/plain": [
       "   id first_name last_name  job_title   \n",
       "1   1 John       Mendes     Professional\n",
       "2   2 Rob        Stewart    Programmer  \n",
       "3   3 Rachel     Abrahamson Management  \n",
       "4   4 Christy    Hickman    Clerical    \n",
       "5   5 Johnson    Harper     Developer   \n",
       "6   6 Candace    Miller     Programmer  \n",
       "7   7 Carlson    Landy      Management  \n",
       "8   8 Pansy      Jordan     Clerical    \n",
       "9   9 Darius     Berry      Developer   \n",
       "10 10 Claudia    Garcia     Programmer  "
      ]
     },
     "metadata": {},
     "output_type": "display_data"
    }
   ],
   "source": [
    "sep_employee"
   ]
  },
  {
   "cell_type": "markdown",
   "metadata": {},
   "source": [
    "**unite() :** concatenate the columns into one"
   ]
  },
  {
   "cell_type": "code",
   "execution_count": 6,
   "metadata": {},
   "outputs": [
    {
     "data": {
      "text/html": [
       "<table class=\"dataframe\">\n",
       "<caption>A data.frame: 10 × 3</caption>\n",
       "<thead>\n",
       "\t<tr><th scope=col>id</th><th scope=col>name</th><th scope=col>job_title</th></tr>\n",
       "\t<tr><th scope=col>&lt;int&gt;</th><th scope=col>&lt;chr&gt;</th><th scope=col>&lt;chr&gt;</th></tr>\n",
       "</thead>\n",
       "<tbody>\n",
       "\t<tr><td> 1</td><td>John Mendes      </td><td>Professional</td></tr>\n",
       "\t<tr><td> 2</td><td>Rob Stewart      </td><td>Programmer  </td></tr>\n",
       "\t<tr><td> 3</td><td>Rachel Abrahamson</td><td>Management  </td></tr>\n",
       "\t<tr><td> 4</td><td>Christy Hickman  </td><td>Clerical    </td></tr>\n",
       "\t<tr><td> 5</td><td>Johnson Harper   </td><td>Developer   </td></tr>\n",
       "\t<tr><td> 6</td><td>Candace Miller   </td><td>Programmer  </td></tr>\n",
       "\t<tr><td> 7</td><td>Carlson Landy    </td><td>Management  </td></tr>\n",
       "\t<tr><td> 8</td><td>Pansy Jordan     </td><td>Clerical    </td></tr>\n",
       "\t<tr><td> 9</td><td>Darius Berry     </td><td>Developer   </td></tr>\n",
       "\t<tr><td>10</td><td>Claudia Garcia   </td><td>Programmer  </td></tr>\n",
       "</tbody>\n",
       "</table>\n"
      ],
      "text/latex": [
       "A data.frame: 10 × 3\n",
       "\\begin{tabular}{lll}\n",
       " id & name & job\\_title\\\\\n",
       " <int> & <chr> & <chr>\\\\\n",
       "\\hline\n",
       "\t  1 & John Mendes       & Professional\\\\\n",
       "\t  2 & Rob Stewart       & Programmer  \\\\\n",
       "\t  3 & Rachel Abrahamson & Management  \\\\\n",
       "\t  4 & Christy Hickman   & Clerical    \\\\\n",
       "\t  5 & Johnson Harper    & Developer   \\\\\n",
       "\t  6 & Candace Miller    & Programmer  \\\\\n",
       "\t  7 & Carlson Landy     & Management  \\\\\n",
       "\t  8 & Pansy Jordan      & Clerical    \\\\\n",
       "\t  9 & Darius Berry      & Developer   \\\\\n",
       "\t 10 & Claudia Garcia    & Programmer  \\\\\n",
       "\\end{tabular}\n"
      ],
      "text/markdown": [
       "\n",
       "A data.frame: 10 × 3\n",
       "\n",
       "| id &lt;int&gt; | name &lt;chr&gt; | job_title &lt;chr&gt; |\n",
       "|---|---|---|\n",
       "|  1 | John Mendes       | Professional |\n",
       "|  2 | Rob Stewart       | Programmer   |\n",
       "|  3 | Rachel Abrahamson | Management   |\n",
       "|  4 | Christy Hickman   | Clerical     |\n",
       "|  5 | Johnson Harper    | Developer    |\n",
       "|  6 | Candace Miller    | Programmer   |\n",
       "|  7 | Carlson Landy     | Management   |\n",
       "|  8 | Pansy Jordan      | Clerical     |\n",
       "|  9 | Darius Berry      | Developer    |\n",
       "| 10 | Claudia Garcia    | Programmer   |\n",
       "\n"
      ],
      "text/plain": [
       "   id name              job_title   \n",
       "1   1 John Mendes       Professional\n",
       "2   2 Rob Stewart       Programmer  \n",
       "3   3 Rachel Abrahamson Management  \n",
       "4   4 Christy Hickman   Clerical    \n",
       "5   5 Johnson Harper    Developer   \n",
       "6   6 Candace Miller    Programmer  \n",
       "7   7 Carlson Landy     Management  \n",
       "8   8 Pansy Jordan      Clerical    \n",
       "9   9 Darius Berry      Developer   \n",
       "10 10 Claudia Garcia    Programmer  "
      ]
     },
     "metadata": {},
     "output_type": "display_data"
    }
   ],
   "source": [
    "unite(sep_employee,'name',first_name,last_name,sep = ' ')"
   ]
  },
  {
   "cell_type": "code",
   "execution_count": 7,
   "metadata": {},
   "outputs": [],
   "source": [
    "library(palmerpenguins)"
   ]
  },
  {
   "cell_type": "code",
   "execution_count": 8,
   "metadata": {},
   "outputs": [
    {
     "data": {
      "text/html": [
       "<table class=\"dataframe\">\n",
       "<caption>A tibble: 10 × 10</caption>\n",
       "<thead>\n",
       "\t<tr><th scope=col>species</th><th scope=col>island</th><th scope=col>bill_length_mm</th><th scope=col>bill_depth_mm</th><th scope=col>flipper_length_mm</th><th scope=col>body_mass_g</th><th scope=col>sex</th><th scope=col>year</th><th scope=col>body_mass_kg</th><th scope=col>flipper_length_m</th></tr>\n",
       "\t<tr><th scope=col>&lt;fct&gt;</th><th scope=col>&lt;fct&gt;</th><th scope=col>&lt;dbl&gt;</th><th scope=col>&lt;dbl&gt;</th><th scope=col>&lt;int&gt;</th><th scope=col>&lt;int&gt;</th><th scope=col>&lt;fct&gt;</th><th scope=col>&lt;int&gt;</th><th scope=col>&lt;dbl&gt;</th><th scope=col>&lt;dbl&gt;</th></tr>\n",
       "</thead>\n",
       "<tbody>\n",
       "\t<tr><td>Adelie</td><td>Torgersen</td><td>39.1</td><td>18.7</td><td>181</td><td>3750</td><td>male  </td><td>2007</td><td>3.750</td><td>0.181</td></tr>\n",
       "\t<tr><td>Adelie</td><td>Torgersen</td><td>39.5</td><td>17.4</td><td>186</td><td>3800</td><td>female</td><td>2007</td><td>3.800</td><td>0.186</td></tr>\n",
       "\t<tr><td>Adelie</td><td>Torgersen</td><td>40.3</td><td>18.0</td><td>195</td><td>3250</td><td>female</td><td>2007</td><td>3.250</td><td>0.195</td></tr>\n",
       "\t<tr><td>Adelie</td><td>Torgersen</td><td>  NA</td><td>  NA</td><td> NA</td><td>  NA</td><td>NA    </td><td>2007</td><td>   NA</td><td>   NA</td></tr>\n",
       "\t<tr><td>Adelie</td><td>Torgersen</td><td>36.7</td><td>19.3</td><td>193</td><td>3450</td><td>female</td><td>2007</td><td>3.450</td><td>0.193</td></tr>\n",
       "\t<tr><td>Adelie</td><td>Torgersen</td><td>39.3</td><td>20.6</td><td>190</td><td>3650</td><td>male  </td><td>2007</td><td>3.650</td><td>0.190</td></tr>\n",
       "\t<tr><td>Adelie</td><td>Torgersen</td><td>38.9</td><td>17.8</td><td>181</td><td>3625</td><td>female</td><td>2007</td><td>3.625</td><td>0.181</td></tr>\n",
       "\t<tr><td>Adelie</td><td>Torgersen</td><td>39.2</td><td>19.6</td><td>195</td><td>4675</td><td>male  </td><td>2007</td><td>4.675</td><td>0.195</td></tr>\n",
       "\t<tr><td>Adelie</td><td>Torgersen</td><td>34.1</td><td>18.1</td><td>193</td><td>3475</td><td>NA    </td><td>2007</td><td>3.475</td><td>0.193</td></tr>\n",
       "\t<tr><td>Adelie</td><td>Torgersen</td><td>42.0</td><td>20.2</td><td>190</td><td>4250</td><td>NA    </td><td>2007</td><td>4.250</td><td>0.190</td></tr>\n",
       "</tbody>\n",
       "</table>\n"
      ],
      "text/latex": [
       "A tibble: 10 × 10\n",
       "\\begin{tabular}{llllllllll}\n",
       " species & island & bill\\_length\\_mm & bill\\_depth\\_mm & flipper\\_length\\_mm & body\\_mass\\_g & sex & year & body\\_mass\\_kg & flipper\\_length\\_m\\\\\n",
       " <fct> & <fct> & <dbl> & <dbl> & <int> & <int> & <fct> & <int> & <dbl> & <dbl>\\\\\n",
       "\\hline\n",
       "\t Adelie & Torgersen & 39.1 & 18.7 & 181 & 3750 & male   & 2007 & 3.750 & 0.181\\\\\n",
       "\t Adelie & Torgersen & 39.5 & 17.4 & 186 & 3800 & female & 2007 & 3.800 & 0.186\\\\\n",
       "\t Adelie & Torgersen & 40.3 & 18.0 & 195 & 3250 & female & 2007 & 3.250 & 0.195\\\\\n",
       "\t Adelie & Torgersen &   NA &   NA &  NA &   NA & NA     & 2007 &    NA &    NA\\\\\n",
       "\t Adelie & Torgersen & 36.7 & 19.3 & 193 & 3450 & female & 2007 & 3.450 & 0.193\\\\\n",
       "\t Adelie & Torgersen & 39.3 & 20.6 & 190 & 3650 & male   & 2007 & 3.650 & 0.190\\\\\n",
       "\t Adelie & Torgersen & 38.9 & 17.8 & 181 & 3625 & female & 2007 & 3.625 & 0.181\\\\\n",
       "\t Adelie & Torgersen & 39.2 & 19.6 & 195 & 4675 & male   & 2007 & 4.675 & 0.195\\\\\n",
       "\t Adelie & Torgersen & 34.1 & 18.1 & 193 & 3475 & NA     & 2007 & 3.475 & 0.193\\\\\n",
       "\t Adelie & Torgersen & 42.0 & 20.2 & 190 & 4250 & NA     & 2007 & 4.250 & 0.190\\\\\n",
       "\\end{tabular}\n"
      ],
      "text/markdown": [
       "\n",
       "A tibble: 10 × 10\n",
       "\n",
       "| species &lt;fct&gt; | island &lt;fct&gt; | bill_length_mm &lt;dbl&gt; | bill_depth_mm &lt;dbl&gt; | flipper_length_mm &lt;int&gt; | body_mass_g &lt;int&gt; | sex &lt;fct&gt; | year &lt;int&gt; | body_mass_kg &lt;dbl&gt; | flipper_length_m &lt;dbl&gt; |\n",
       "|---|---|---|---|---|---|---|---|---|---|\n",
       "| Adelie | Torgersen | 39.1 | 18.7 | 181 | 3750 | male   | 2007 | 3.750 | 0.181 |\n",
       "| Adelie | Torgersen | 39.5 | 17.4 | 186 | 3800 | female | 2007 | 3.800 | 0.186 |\n",
       "| Adelie | Torgersen | 40.3 | 18.0 | 195 | 3250 | female | 2007 | 3.250 | 0.195 |\n",
       "| Adelie | Torgersen |   NA |   NA |  NA |   NA | NA     | 2007 |    NA |    NA |\n",
       "| Adelie | Torgersen | 36.7 | 19.3 | 193 | 3450 | female | 2007 | 3.450 | 0.193 |\n",
       "| Adelie | Torgersen | 39.3 | 20.6 | 190 | 3650 | male   | 2007 | 3.650 | 0.190 |\n",
       "| Adelie | Torgersen | 38.9 | 17.8 | 181 | 3625 | female | 2007 | 3.625 | 0.181 |\n",
       "| Adelie | Torgersen | 39.2 | 19.6 | 195 | 4675 | male   | 2007 | 4.675 | 0.195 |\n",
       "| Adelie | Torgersen | 34.1 | 18.1 | 193 | 3475 | NA     | 2007 | 3.475 | 0.193 |\n",
       "| Adelie | Torgersen | 42.0 | 20.2 | 190 | 4250 | NA     | 2007 | 4.250 | 0.190 |\n",
       "\n"
      ],
      "text/plain": [
       "   species island    bill_length_mm bill_depth_mm flipper_length_mm body_mass_g\n",
       "1  Adelie  Torgersen 39.1           18.7          181               3750       \n",
       "2  Adelie  Torgersen 39.5           17.4          186               3800       \n",
       "3  Adelie  Torgersen 40.3           18.0          195               3250       \n",
       "4  Adelie  Torgersen   NA             NA           NA                 NA       \n",
       "5  Adelie  Torgersen 36.7           19.3          193               3450       \n",
       "6  Adelie  Torgersen 39.3           20.6          190               3650       \n",
       "7  Adelie  Torgersen 38.9           17.8          181               3625       \n",
       "8  Adelie  Torgersen 39.2           19.6          195               4675       \n",
       "9  Adelie  Torgersen 34.1           18.1          193               3475       \n",
       "10 Adelie  Torgersen 42.0           20.2          190               4250       \n",
       "   sex    year body_mass_kg flipper_length_m\n",
       "1  male   2007 3.750        0.181           \n",
       "2  female 2007 3.800        0.186           \n",
       "3  female 2007 3.250        0.195           \n",
       "4  NA     2007    NA           NA           \n",
       "5  female 2007 3.450        0.193           \n",
       "6  male   2007 3.650        0.190           \n",
       "7  female 2007 3.625        0.181           \n",
       "8  male   2007 4.675        0.195           \n",
       "9  NA     2007 3.475        0.193           \n",
       "10 NA     2007 4.250        0.190           "
      ]
     },
     "metadata": {},
     "output_type": "display_data"
    }
   ],
   "source": [
    "penguins[seq.int(10),]  %>% mutate(body_mass_kg = body_mass_g/1000,flipper_length_m = flipper_length_mm / 1000)"
   ]
  },
  {
   "cell_type": "code",
   "execution_count": null,
   "metadata": {},
   "outputs": [],
   "source": []
  }
 ],
 "metadata": {
  "kernelspec": {
   "display_name": "R",
   "language": "R",
   "name": "ir"
  },
  "language_info": {
   "codemirror_mode": "r",
   "file_extension": ".r",
   "mimetype": "text/x-r-source",
   "name": "R",
   "pygments_lexer": "r",
   "version": "4.1.2"
  }
 },
 "nbformat": 4,
 "nbformat_minor": 4
}
