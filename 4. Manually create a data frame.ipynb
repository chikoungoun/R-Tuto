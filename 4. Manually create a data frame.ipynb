{
 "cells": [
  {
   "cell_type": "code",
   "execution_count": 1,
   "metadata": {},
   "outputs": [],
   "source": [
    "id <- c(1:10)"
   ]
  },
  {
   "cell_type": "code",
   "execution_count": 2,
   "metadata": {},
   "outputs": [
    {
     "data": {
      "text/html": [
       "<style>\n",
       ".list-inline {list-style: none; margin:0; padding: 0}\n",
       ".list-inline>li {display: inline-block}\n",
       ".list-inline>li:not(:last-child)::after {content: \"\\00b7\"; padding: 0 .5ex}\n",
       "</style>\n",
       "<ol class=list-inline><li>1</li><li>2</li><li>3</li><li>4</li><li>5</li><li>6</li><li>7</li><li>8</li><li>9</li><li>10</li></ol>\n"
      ],
      "text/latex": [
       "\\begin{enumerate*}\n",
       "\\item 1\n",
       "\\item 2\n",
       "\\item 3\n",
       "\\item 4\n",
       "\\item 5\n",
       "\\item 6\n",
       "\\item 7\n",
       "\\item 8\n",
       "\\item 9\n",
       "\\item 10\n",
       "\\end{enumerate*}\n"
      ],
      "text/markdown": [
       "1. 1\n",
       "2. 2\n",
       "3. 3\n",
       "4. 4\n",
       "5. 5\n",
       "6. 6\n",
       "7. 7\n",
       "8. 8\n",
       "9. 9\n",
       "10. 10\n",
       "\n",
       "\n"
      ],
      "text/plain": [
       " [1]  1  2  3  4  5  6  7  8  9 10"
      ]
     },
     "metadata": {},
     "output_type": "display_data"
    }
   ],
   "source": [
    "id"
   ]
  },
  {
   "cell_type": "code",
   "execution_count": 3,
   "metadata": {},
   "outputs": [],
   "source": [
    "name <- c(\"John Mendes\", \"Rob Stewart\", \"Rachel Abrahamson\", \"Christy Hickman\", \"Johnson Harper\", \"Candace Miller\", \"Carlson Landy\", \"Pansy Jordan\", \"Darius Berry\", \"Claudia Garcia\")"
   ]
  },
  {
   "cell_type": "code",
   "execution_count": 4,
   "metadata": {},
   "outputs": [
    {
     "data": {
      "text/html": [
       "<style>\n",
       ".list-inline {list-style: none; margin:0; padding: 0}\n",
       ".list-inline>li {display: inline-block}\n",
       ".list-inline>li:not(:last-child)::after {content: \"\\00b7\"; padding: 0 .5ex}\n",
       "</style>\n",
       "<ol class=list-inline><li>'John Mendes'</li><li>'Rob Stewart'</li><li>'Rachel Abrahamson'</li><li>'Christy Hickman'</li><li>'Johnson Harper'</li><li>'Candace Miller'</li><li>'Carlson Landy'</li><li>'Pansy Jordan'</li><li>'Darius Berry'</li><li>'Claudia Garcia'</li></ol>\n"
      ],
      "text/latex": [
       "\\begin{enumerate*}\n",
       "\\item 'John Mendes'\n",
       "\\item 'Rob Stewart'\n",
       "\\item 'Rachel Abrahamson'\n",
       "\\item 'Christy Hickman'\n",
       "\\item 'Johnson Harper'\n",
       "\\item 'Candace Miller'\n",
       "\\item 'Carlson Landy'\n",
       "\\item 'Pansy Jordan'\n",
       "\\item 'Darius Berry'\n",
       "\\item 'Claudia Garcia'\n",
       "\\end{enumerate*}\n"
      ],
      "text/markdown": [
       "1. 'John Mendes'\n",
       "2. 'Rob Stewart'\n",
       "3. 'Rachel Abrahamson'\n",
       "4. 'Christy Hickman'\n",
       "5. 'Johnson Harper'\n",
       "6. 'Candace Miller'\n",
       "7. 'Carlson Landy'\n",
       "8. 'Pansy Jordan'\n",
       "9. 'Darius Berry'\n",
       "10. 'Claudia Garcia'\n",
       "\n",
       "\n"
      ],
      "text/plain": [
       " [1] \"John Mendes\"       \"Rob Stewart\"       \"Rachel Abrahamson\"\n",
       " [4] \"Christy Hickman\"   \"Johnson Harper\"    \"Candace Miller\"   \n",
       " [7] \"Carlson Landy\"     \"Pansy Jordan\"      \"Darius Berry\"     \n",
       "[10] \"Claudia Garcia\"   "
      ]
     },
     "metadata": {},
     "output_type": "display_data"
    }
   ],
   "source": [
    "name"
   ]
  },
  {
   "cell_type": "code",
   "execution_count": 5,
   "metadata": {},
   "outputs": [],
   "source": [
    "job_title <- c(\"Professional\", \"Programmer\", \"Management\", \"Clerical\", \"Developer\", \"Programmer\", \"Management\", \"Clerical\", \"Developer\", \"Programmer\")"
   ]
  },
  {
   "cell_type": "code",
   "execution_count": 6,
   "metadata": {},
   "outputs": [
    {
     "data": {
      "text/html": [
       "<style>\n",
       ".list-inline {list-style: none; margin:0; padding: 0}\n",
       ".list-inline>li {display: inline-block}\n",
       ".list-inline>li:not(:last-child)::after {content: \"\\00b7\"; padding: 0 .5ex}\n",
       "</style>\n",
       "<ol class=list-inline><li>'Professional'</li><li>'Programmer'</li><li>'Management'</li><li>'Clerical'</li><li>'Developer'</li><li>'Programmer'</li><li>'Management'</li><li>'Clerical'</li><li>'Developer'</li><li>'Programmer'</li></ol>\n"
      ],
      "text/latex": [
       "\\begin{enumerate*}\n",
       "\\item 'Professional'\n",
       "\\item 'Programmer'\n",
       "\\item 'Management'\n",
       "\\item 'Clerical'\n",
       "\\item 'Developer'\n",
       "\\item 'Programmer'\n",
       "\\item 'Management'\n",
       "\\item 'Clerical'\n",
       "\\item 'Developer'\n",
       "\\item 'Programmer'\n",
       "\\end{enumerate*}\n"
      ],
      "text/markdown": [
       "1. 'Professional'\n",
       "2. 'Programmer'\n",
       "3. 'Management'\n",
       "4. 'Clerical'\n",
       "5. 'Developer'\n",
       "6. 'Programmer'\n",
       "7. 'Management'\n",
       "8. 'Clerical'\n",
       "9. 'Developer'\n",
       "10. 'Programmer'\n",
       "\n",
       "\n"
      ],
      "text/plain": [
       " [1] \"Professional\" \"Programmer\"   \"Management\"   \"Clerical\"     \"Developer\"   \n",
       " [6] \"Programmer\"   \"Management\"   \"Clerical\"     \"Developer\"    \"Programmer\"  "
      ]
     },
     "metadata": {},
     "output_type": "display_data"
    }
   ],
   "source": [
    "job_title"
   ]
  },
  {
   "cell_type": "code",
   "execution_count": 7,
   "metadata": {},
   "outputs": [],
   "source": [
    "employee <- data.frame(id, name, job_title)"
   ]
  },
  {
   "cell_type": "code",
   "execution_count": 8,
   "metadata": {},
   "outputs": [
    {
     "data": {
      "text/html": [
       "<table class=\"dataframe\">\n",
       "<caption>A data.frame: 10 × 3</caption>\n",
       "<thead>\n",
       "\t<tr><th scope=col>id</th><th scope=col>name</th><th scope=col>job_title</th></tr>\n",
       "\t<tr><th scope=col>&lt;int&gt;</th><th scope=col>&lt;chr&gt;</th><th scope=col>&lt;chr&gt;</th></tr>\n",
       "</thead>\n",
       "<tbody>\n",
       "\t<tr><td> 1</td><td>John Mendes      </td><td>Professional</td></tr>\n",
       "\t<tr><td> 2</td><td>Rob Stewart      </td><td>Programmer  </td></tr>\n",
       "\t<tr><td> 3</td><td>Rachel Abrahamson</td><td>Management  </td></tr>\n",
       "\t<tr><td> 4</td><td>Christy Hickman  </td><td>Clerical    </td></tr>\n",
       "\t<tr><td> 5</td><td>Johnson Harper   </td><td>Developer   </td></tr>\n",
       "\t<tr><td> 6</td><td>Candace Miller   </td><td>Programmer  </td></tr>\n",
       "\t<tr><td> 7</td><td>Carlson Landy    </td><td>Management  </td></tr>\n",
       "\t<tr><td> 8</td><td>Pansy Jordan     </td><td>Clerical    </td></tr>\n",
       "\t<tr><td> 9</td><td>Darius Berry     </td><td>Developer   </td></tr>\n",
       "\t<tr><td>10</td><td>Claudia Garcia   </td><td>Programmer  </td></tr>\n",
       "</tbody>\n",
       "</table>\n"
      ],
      "text/latex": [
       "A data.frame: 10 × 3\n",
       "\\begin{tabular}{lll}\n",
       " id & name & job\\_title\\\\\n",
       " <int> & <chr> & <chr>\\\\\n",
       "\\hline\n",
       "\t  1 & John Mendes       & Professional\\\\\n",
       "\t  2 & Rob Stewart       & Programmer  \\\\\n",
       "\t  3 & Rachel Abrahamson & Management  \\\\\n",
       "\t  4 & Christy Hickman   & Clerical    \\\\\n",
       "\t  5 & Johnson Harper    & Developer   \\\\\n",
       "\t  6 & Candace Miller    & Programmer  \\\\\n",
       "\t  7 & Carlson Landy     & Management  \\\\\n",
       "\t  8 & Pansy Jordan      & Clerical    \\\\\n",
       "\t  9 & Darius Berry      & Developer   \\\\\n",
       "\t 10 & Claudia Garcia    & Programmer  \\\\\n",
       "\\end{tabular}\n"
      ],
      "text/markdown": [
       "\n",
       "A data.frame: 10 × 3\n",
       "\n",
       "| id &lt;int&gt; | name &lt;chr&gt; | job_title &lt;chr&gt; |\n",
       "|---|---|---|\n",
       "|  1 | John Mendes       | Professional |\n",
       "|  2 | Rob Stewart       | Programmer   |\n",
       "|  3 | Rachel Abrahamson | Management   |\n",
       "|  4 | Christy Hickman   | Clerical     |\n",
       "|  5 | Johnson Harper    | Developer    |\n",
       "|  6 | Candace Miller    | Programmer   |\n",
       "|  7 | Carlson Landy     | Management   |\n",
       "|  8 | Pansy Jordan      | Clerical     |\n",
       "|  9 | Darius Berry      | Developer    |\n",
       "| 10 | Claudia Garcia    | Programmer   |\n",
       "\n"
      ],
      "text/plain": [
       "   id name              job_title   \n",
       "1   1 John Mendes       Professional\n",
       "2   2 Rob Stewart       Programmer  \n",
       "3   3 Rachel Abrahamson Management  \n",
       "4   4 Christy Hickman   Clerical    \n",
       "5   5 Johnson Harper    Developer   \n",
       "6   6 Candace Miller    Programmer  \n",
       "7   7 Carlson Landy     Management  \n",
       "8   8 Pansy Jordan      Clerical    \n",
       "9   9 Darius Berry      Developer   \n",
       "10 10 Claudia Garcia    Programmer  "
      ]
     },
     "metadata": {},
     "output_type": "display_data"
    }
   ],
   "source": [
    "employee"
   ]
  },
  {
   "cell_type": "code",
   "execution_count": null,
   "metadata": {},
   "outputs": [],
   "source": []
  }
 ],
 "metadata": {
  "kernelspec": {
   "display_name": "R",
   "language": "R",
   "name": "ir"
  },
  "language_info": {
   "codemirror_mode": "r",
   "file_extension": ".r",
   "mimetype": "text/x-r-source",
   "name": "R",
   "pygments_lexer": "r",
   "version": "4.1.2"
  }
 },
 "nbformat": 4,
 "nbformat_minor": 4
}
